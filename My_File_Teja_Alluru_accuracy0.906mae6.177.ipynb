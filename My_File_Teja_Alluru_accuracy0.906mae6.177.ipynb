{
 "cells": [
  {
   "cell_type": "markdown",
   "metadata": {
    "id": "rQVZpwzB5Fo7"
   },
   "source": [
    "# **PROJECT 02 - PREDICTING AGE & GENDER FROM IMAGES USING A CONVOLUTIONAL NEURAL NETWORK] IN PYTHON!**\n",
    "\n",
    "\n",
    "## **Overview**\n",
    "\n",
    "Cognitive computing is the use of computers to perform tasks that previously could only be performed by the human mind. In this project, we will develop a complete cognitive computing system that can predict the self-reported age and gender of a person based on a photograph of the person’s face – a task that could previously only be done by human beings. The capability to automatically identify people’s ages and genders from visual images could be applied in a very wide array of business scenarios, including security, the sale of age-restricted products, studying customer patronage and purchasing behavior, etc..\n",
    "\n",
    "## **Project**\n",
    "\n",
    "###**Data**\n",
    "\n",
    "The data for this project have been provided to you on the course website in the form of a comma-separated values (CSV) file contained inside of a ZIP file. we will upload the ZIP file to our Colab notebook’s local session storage and then run the code below to extract the CSV file:\n",
    "\n",
    "//import the shutil library//\n",
    "import shutil//\n",
    "extract the CSV file from the ZIP file//\n",
    "shutil.unpack_archive('Project 02 - Data.zip')\n",
    "\n",
    "The dataset has a total of 10,000 rows, each of which contains information about one person. The person’s age (ranging from 1 to 116 years) and self-reported gender (0 = female, 1 = male) have been provided for 8,000 of the cases, while these details have not been provided for the remaining 2,000 cases. By contrast, we have been provided a vector containing 2,304 grayscale pixel values for all 10,000 of the cases in the dataset. Each of these vectors represents a 48 pixel x 48 pixel grayscale photograph of the corresponding person’s face. we will need to use the 8,000 rows for which you have complete information to train one or more convolutional neural networks (CNNs) that can use the image data to predict each person’s age and gender. After training our CNN model(s), we will then use the model(s) to predict the age and gender for the remaining 2,000 cases.\n",
    "we may use the following Python code to load and divide the data into two Pandas dataframes – one of which contains only the 2,000 cases for which we need to make predictions, and the other of which contains the other 8,000 cases for which you have been given complete information:\n",
    "\n",
    "import pandas as pd//\n",
    "#load the CSV file into a pandas dataframe//\n",
    "df = pd.read_csv('Project 02 - Data.csv')//\n",
    "#convert the pixel strings into numpy arrays//\n",
    "pixels = []//\n",
    "for p in df.pixels://\n",
    "pixels.append(np.fromstring(p, sep=' '))//\n",
    "df['pixels'] = pixels//\n",
    "pixels = None #release memory//\n",
    "perform your data cleaning / preparation tasks here //\n",
    "create a dataframe containing only those rows for which//\n",
    "age & gender predictions need to be made//\n",
    "df_predict = df[pd.isnull(df.age) == True].copy()//\n",
    "remove all incomplete rows from the 'df' dataframe//\n",
    "df = df[pd.isnull(df.age) == False].copy()//\n",
    "\n",
    "\n",
    "###**Predicting Age & Gender**\n",
    "\n",
    "For this project, we are trying to predict the age and gender of a person based on a small grayscale photograph of the person’s face. The project therefore involves both a classification task (predicting gender) and a numerical prediction task (predicting age). We will need to consider these tasks when designing the architecture of our convolutional neural network(s). For example, we may want to use a binary_crossentropy loss function with an accuracy performance metric when attempting to predict the categorical gender labels, while using a different loss function and performance metric when attempting to predict the numerical age labels. More information about loss functions can be found here: https://keras.io/api/losses/, and more information about performance metrics can be found here: https://keras.io/api/metrics/\n",
    "Before training your convolutional neural network(s), we will need to properly prepare the image vectors so that they can be used as input. As noted previously, each vector (array) contains 2,304 elements, each of which represents a grayscale pixel intensity value for a 48 pixel x 48 pixel image. we will therefore need to reshape each one-dimensional array into a two-dimensional array of size (48, 48) before training your neural network(s). Numpy’s reshape() function may be useful for performing this task. See the following page for more details: https://numpy.org/doc/stable/reference/generated/numpy.reshape.html\n",
    "\n",
    "## **TASKS**\n",
    "1. Create a new notebook on Google Colab and upload the ZIP data file for this project to our notebook’s session storage. The ZIP file is available on the course website.\n",
    "2. Extract the CSV data file from the ZIP file. The CSV file is named “Project 02 – Data.csv”.\n",
    "3. Load all of the data into a pandas dataframe and perform whatever cleaning, preprocessing, or feature engineering tasks we deem necessary in order to prepare the data for use by a convolutional neural network.\n",
    "4. Extract the 2,000 rows from the dataframe for which we will eventually need to make predictions and store those data in a separate dataframe.\n",
    "5. Split our primary data into training and testing sets so that we will be able to evaluate the performance of our CNN models on out-of-sample data. Alternatively, we may consider using cross validation.\n",
    "6. Train and test a variety of CNN models (i.e., models with varying architectures and training parameters). Be sure to keep track of the performance of each model. Remember: our goal is to train models that can predict age and gender as accurately as possible.\n",
    "7. Once we have trained our final CNN model(s), use the model(s) to predict age and gender for the 2,000 cases in our prediction dataframe.\n",
    "To ensure that we receive credit for this project, please submit the CSV file containing our predictions by using the Project 02 link in the Assignments section of the course website.\n",
    "8. Save all of our predictions as a comma-separated values (CSV) file. Note the following:\n",
    "a. The file should be named “Last name, First name.csv”. For example, Dr. Soper’s CSV file would be named “Soper, Daniel.csv”.\n",
    "b. Each line of our CSV file should contain the ID of the person whose age and gender are being predicted, followed by a comma, followed by the predicted age, followed by a comma, followed by the predicted gender label. Here’s an example depicting predictions for five people:\n",
    "id,age,gender\n",
    "10001,47.0,1.0\n",
    "10002,48.0,1.0\n",
    "10003,23.0,1.0\n",
    "10004,87.0,0.0\n",
    "10005,23.0,0.0\n",
    "c. our CSV file should contain exactly 2,000 predictions – one for person for which the age and gender labels were not provided.\n",
    "d. we can easily write our predictions to a CSV file in Python by using code similar to the following. This code assumes that we are storing our predictions in a dataframe named “df_predict”.\n",
    "e. If we like, we may validate our predictions CSV file before submitting it for grading by using the Google Colab notebook entitled “Validate CSV Predictions File - Notebook.ipynb”, which is available on the course website. This notebook will check whether our CSV file conforms to the expectations described above.\n",
    "\n",
    "## **Deliverables**\n",
    "To ensure that we receive credit for this project, please submit the CSV file containing our predictions by using the Project 02 link in the Assignments section of the course website.\n",
    "\n",
    "## **Evaluation Criteria**\n",
    "The age and gender predictions that we submit in our CSV file will be compared to the true age and gender values in order to determine the overall accuracy of our predictions. For our age predictions, accuracy will be calculated as the mean absolute error from the true values. For our gender predictions, accuracy will be calculated as the proportion of the true gender labels that we predicted correctly.  overall predictive accuracy will be used as a basis for assigning a grade for this project, with greater accuracy yielding a higher score."
   ]
  },
  {
   "cell_type": "markdown",
   "metadata": {
    "id": "zyycVf98HDi_"
   },
   "source": [
    "##**Installing required packages**\n",
    "All the required packages for executing the project are installed below."
   ]
  },
  {
   "cell_type": "code",
   "execution_count": 182,
   "metadata": {
    "colab": {
     "base_uri": "https://localhost:8080/"
    },
    "id": "I1L77NwGHeT0",
    "outputId": "f35b58da-0a6b-48b7-8f35-77f63e9faa7b"
   },
   "outputs": [
    {
     "name": "stdout",
     "output_type": "stream",
     "text": [
      "Requirement already satisfied: tensorflow-addons in c:\\programdata\\anaconda3\\lib\\site-packages (0.17.0)\n",
      "Requirement already satisfied: packaging in c:\\programdata\\anaconda3\\lib\\site-packages (from tensorflow-addons) (21.0)\n",
      "Requirement already satisfied: typeguard>=2.7 in c:\\programdata\\anaconda3\\lib\\site-packages (from tensorflow-addons) (2.13.3)\n",
      "Requirement already satisfied: pyparsing>=2.0.2 in c:\\programdata\\anaconda3\\lib\\site-packages (from packaging->tensorflow-addons) (3.0.4)\n"
     ]
    }
   ],
   "source": [
    "!pip install tensorflow-addons\n",
    "#import the shutil library\n",
    "import shutil\n",
    "#import the pandas library\n",
    "import pandas as pd\n",
    "#import the numpy library\n",
    "import numpy as np\n",
    "import tensorflow as tf\n",
    "from keras.layers import Conv2D, Dense, Flatten, MaxPooling2D, LeakyReLU\n",
    "from keras.models import Sequential\n",
    "from matplotlib import pyplot as plt\n",
    "from tensorflow.keras.utils import to_categorical\n",
    "import matplotlib.pyplot as plt\n",
    "import plotly.graph_objects as go\n",
    "import plotly.express as px\n",
    "from sklearn.model_selection import train_test_split\n",
    "from keras.preprocessing.image import ImageDataGenerator \n",
    "import os\n",
    "import tensorflow_addons\n",
    "import cv2\n",
    "from tqdm import tqdm\n",
    "import random\n",
    "import math"
   ]
  },
  {
   "cell_type": "markdown",
   "metadata": {
    "id": "bDL27r_jNIRp"
   },
   "source": [
    "##**Read Data**\n",
    "Read the tweet data from zip file.\n"
   ]
  },
  {
   "cell_type": "code",
   "execution_count": 183,
   "metadata": {
    "id": "e2W-aiMk2Cud"
   },
   "outputs": [],
   "source": [
    "#extract the CSV file from the ZIP file\n",
    "shutil.unpack_archive('Project 02 - Data.zip')"
   ]
  },
  {
   "cell_type": "code",
   "execution_count": 184,
   "metadata": {
    "id": "aMMhHaUCY7SM"
   },
   "outputs": [],
   "source": [
    "#load the CSV file into a pandas dataframe\n",
    "df = pd.read_csv('Project 02 - Data.csv')\n",
    "#convert the pixel strings into numpy arrays\n",
    "#pixels = []\n",
    "#for p in df.pixels:\n",
    "#  pixels.append(np.fromstring(p, sep=' '))\n",
    "#df['pixels'] = pixels\n",
    "#pixels = None #release memory"
   ]
  },
  {
   "cell_type": "code",
   "execution_count": 185,
   "metadata": {
    "colab": {
     "base_uri": "https://localhost:8080/",
     "height": 206
    },
    "id": "b0yfG32dLPNh",
    "outputId": "3683cd79-6a6f-41c5-a6bc-65777723d4db"
   },
   "outputs": [
    {
     "data": {
      "text/html": [
       "<div>\n",
       "<style scoped>\n",
       "    .dataframe tbody tr th:only-of-type {\n",
       "        vertical-align: middle;\n",
       "    }\n",
       "\n",
       "    .dataframe tbody tr th {\n",
       "        vertical-align: top;\n",
       "    }\n",
       "\n",
       "    .dataframe thead th {\n",
       "        text-align: right;\n",
       "    }\n",
       "</style>\n",
       "<table border=\"1\" class=\"dataframe\">\n",
       "  <thead>\n",
       "    <tr style=\"text-align: right;\">\n",
       "      <th></th>\n",
       "      <th>id</th>\n",
       "      <th>age</th>\n",
       "      <th>gender</th>\n",
       "      <th>pixels</th>\n",
       "    </tr>\n",
       "  </thead>\n",
       "  <tbody>\n",
       "    <tr>\n",
       "      <th>0</th>\n",
       "      <td>1</td>\n",
       "      <td>47.0</td>\n",
       "      <td>1.0</td>\n",
       "      <td>217 222 219 225 187 113 85 73 82 73 71 75 105 ...</td>\n",
       "    </tr>\n",
       "    <tr>\n",
       "      <th>1</th>\n",
       "      <td>2</td>\n",
       "      <td>48.0</td>\n",
       "      <td>1.0</td>\n",
       "      <td>121 101 123 149 165 180 183 179 179 178 180 18...</td>\n",
       "    </tr>\n",
       "    <tr>\n",
       "      <th>2</th>\n",
       "      <td>3</td>\n",
       "      <td>23.0</td>\n",
       "      <td>1.0</td>\n",
       "      <td>100 105 109 107 109 157 182 190 197 201 202 20...</td>\n",
       "    </tr>\n",
       "    <tr>\n",
       "      <th>3</th>\n",
       "      <td>4</td>\n",
       "      <td>87.0</td>\n",
       "      <td>0.0</td>\n",
       "      <td>229 239 239 241 239 238 237 239 237 235 223 20...</td>\n",
       "    </tr>\n",
       "    <tr>\n",
       "      <th>4</th>\n",
       "      <td>5</td>\n",
       "      <td>23.0</td>\n",
       "      <td>0.0</td>\n",
       "      <td>30 33 32 29 38 42 36 35 45 67 145 178 191 197 ...</td>\n",
       "    </tr>\n",
       "  </tbody>\n",
       "</table>\n",
       "</div>"
      ],
      "text/plain": [
       "   id   age  gender                                             pixels\n",
       "0   1  47.0     1.0  217 222 219 225 187 113 85 73 82 73 71 75 105 ...\n",
       "1   2  48.0     1.0  121 101 123 149 165 180 183 179 179 178 180 18...\n",
       "2   3  23.0     1.0  100 105 109 107 109 157 182 190 197 201 202 20...\n",
       "3   4  87.0     0.0  229 239 239 241 239 238 237 239 237 235 223 20...\n",
       "4   5  23.0     0.0  30 33 32 29 38 42 36 35 45 67 145 178 191 197 ..."
      ]
     },
     "execution_count": 185,
     "metadata": {},
     "output_type": "execute_result"
    }
   ],
   "source": [
    "df.head()"
   ]
  },
  {
   "cell_type": "code",
   "execution_count": 186,
   "metadata": {
    "colab": {
     "base_uri": "https://localhost:8080/"
    },
    "id": "O4Okx9lWLGLR",
    "outputId": "c2a0ad12-b7a7-4fdc-e011-f56fdd8f77c8"
   },
   "outputs": [
    {
     "data": {
      "text/plain": [
       "8690"
      ]
     },
     "execution_count": 186,
     "metadata": {},
     "output_type": "execute_result"
    }
   ],
   "source": [
    "len(df.pixels[0])"
   ]
  },
  {
   "cell_type": "code",
   "execution_count": 187,
   "metadata": {
    "colab": {
     "base_uri": "https://localhost:8080/"
    },
    "id": "93I8odVGLgoM",
    "outputId": "637e14a1-85d0-4c5f-d23c-ae8ed116d40e"
   },
   "outputs": [
    {
     "data": {
      "text/plain": [
       "id          int64\n",
       "age       float64\n",
       "gender    float64\n",
       "pixels     object\n",
       "dtype: object"
      ]
     },
     "execution_count": 187,
     "metadata": {},
     "output_type": "execute_result"
    }
   ],
   "source": [
    "df.dtypes"
   ]
  },
  {
   "cell_type": "code",
   "execution_count": 188,
   "metadata": {
    "colab": {
     "base_uri": "https://localhost:8080/"
    },
    "id": "YR8VYCurNxw3",
    "outputId": "c13062ec-eb38-41db-fdd5-e394917902a4"
   },
   "outputs": [
    {
     "name": "stdout",
     "output_type": "stream",
     "text": [
      "Total rows: 10000\n",
      "Total columns: 4\n"
     ]
    }
   ],
   "source": [
    "print('Total rows: {}'.format(len(df)))\n",
    "print('Total columns: {}'.format(len(df.columns)))"
   ]
  },
  {
   "cell_type": "code",
   "execution_count": 189,
   "metadata": {
    "colab": {
     "base_uri": "https://localhost:8080/",
     "height": 300
    },
    "id": "phKfNgbaV3og",
    "outputId": "cb1079cb-0358-42e8-decd-ce3e621b3543"
   },
   "outputs": [
    {
     "data": {
      "text/html": [
       "<div>\n",
       "<style scoped>\n",
       "    .dataframe tbody tr th:only-of-type {\n",
       "        vertical-align: middle;\n",
       "    }\n",
       "\n",
       "    .dataframe tbody tr th {\n",
       "        vertical-align: top;\n",
       "    }\n",
       "\n",
       "    .dataframe thead th {\n",
       "        text-align: right;\n",
       "    }\n",
       "</style>\n",
       "<table border=\"1\" class=\"dataframe\">\n",
       "  <thead>\n",
       "    <tr style=\"text-align: right;\">\n",
       "      <th></th>\n",
       "      <th>id</th>\n",
       "      <th>age</th>\n",
       "      <th>gender</th>\n",
       "    </tr>\n",
       "  </thead>\n",
       "  <tbody>\n",
       "    <tr>\n",
       "      <th>count</th>\n",
       "      <td>10000.00000</td>\n",
       "      <td>8000.000000</td>\n",
       "      <td>8000.000000</td>\n",
       "    </tr>\n",
       "    <tr>\n",
       "      <th>mean</th>\n",
       "      <td>5000.50000</td>\n",
       "      <td>33.371625</td>\n",
       "      <td>0.526625</td>\n",
       "    </tr>\n",
       "    <tr>\n",
       "      <th>std</th>\n",
       "      <td>2886.89568</td>\n",
       "      <td>19.858426</td>\n",
       "      <td>0.499322</td>\n",
       "    </tr>\n",
       "    <tr>\n",
       "      <th>min</th>\n",
       "      <td>1.00000</td>\n",
       "      <td>1.000000</td>\n",
       "      <td>0.000000</td>\n",
       "    </tr>\n",
       "    <tr>\n",
       "      <th>25%</th>\n",
       "      <td>2500.75000</td>\n",
       "      <td>23.000000</td>\n",
       "      <td>0.000000</td>\n",
       "    </tr>\n",
       "    <tr>\n",
       "      <th>50%</th>\n",
       "      <td>5000.50000</td>\n",
       "      <td>29.000000</td>\n",
       "      <td>1.000000</td>\n",
       "    </tr>\n",
       "    <tr>\n",
       "      <th>75%</th>\n",
       "      <td>7500.25000</td>\n",
       "      <td>45.000000</td>\n",
       "      <td>1.000000</td>\n",
       "    </tr>\n",
       "    <tr>\n",
       "      <th>max</th>\n",
       "      <td>10000.00000</td>\n",
       "      <td>116.000000</td>\n",
       "      <td>1.000000</td>\n",
       "    </tr>\n",
       "  </tbody>\n",
       "</table>\n",
       "</div>"
      ],
      "text/plain": [
       "                id          age       gender\n",
       "count  10000.00000  8000.000000  8000.000000\n",
       "mean    5000.50000    33.371625     0.526625\n",
       "std     2886.89568    19.858426     0.499322\n",
       "min        1.00000     1.000000     0.000000\n",
       "25%     2500.75000    23.000000     0.000000\n",
       "50%     5000.50000    29.000000     1.000000\n",
       "75%     7500.25000    45.000000     1.000000\n",
       "max    10000.00000   116.000000     1.000000"
      ]
     },
     "execution_count": 189,
     "metadata": {},
     "output_type": "execute_result"
    }
   ],
   "source": [
    "df.describe()"
   ]
  },
  {
   "cell_type": "code",
   "execution_count": 190,
   "metadata": {
    "colab": {
     "base_uri": "https://localhost:8080/"
    },
    "id": "NggOyG3oV9E4",
    "outputId": "e6ce14ba-636d-4c09-b28b-9c049e8e3d1e"
   },
   "outputs": [
    {
     "data": {
      "text/plain": [
       "id           0\n",
       "age       2000\n",
       "gender    2000\n",
       "pixels       0\n",
       "dtype: int64"
      ]
     },
     "execution_count": 190,
     "metadata": {},
     "output_type": "execute_result"
    }
   ],
   "source": [
    "df.isnull().sum()"
   ]
  },
  {
   "cell_type": "code",
   "execution_count": 191,
   "metadata": {
    "id": "k0onTkTKN7rZ"
   },
   "outputs": [],
   "source": [
    "## normalizing pixels data\n",
    "\n",
    "## calculating distributions\n",
    "age_dist = df['age'].value_counts()\n",
    "gender_dist = df['gender'].value_counts().rename(index={0:'Female',1:'Male'})\n",
    "\n",
    "def ditribution_plot(x,y,name):\n",
    "    fig = go.Figure([\n",
    "        go.Bar(x=x, y=y)\n",
    "    ])\n",
    "\n",
    "    fig.update_layout(title_text=name)\n",
    "    fig.show()"
   ]
  },
  {
   "cell_type": "code",
   "execution_count": 192,
   "metadata": {
    "colab": {
     "base_uri": "https://localhost:8080/",
     "height": 542
    },
    "id": "k7d4CIAqPACo",
    "outputId": "7db0379f-5908-4465-89bf-949c4f56f060"
   },
   "outputs": [
    {
     "data": {
      "application/vnd.plotly.v1+json": {
       "config": {
        "plotlyServerURL": "https://plot.ly"
       },
       "data": [
        {
         "type": "bar",
         "x": [
          26,
          1,
          28,
          24,
          35,
          25,
          30,
          32,
          27,
          29,
          40,
          2,
          45,
          36,
          23,
          22,
          54,
          31,
          21,
          34,
          50,
          37,
          20,
          55,
          4,
          60,
          3,
          58,
          42,
          16,
          38,
          65,
          18,
          8,
          53,
          39,
          52,
          56,
          15,
          9,
          5,
          17,
          48,
          12,
          46,
          85,
          10,
          61,
          49,
          43,
          70,
          75,
          62,
          51,
          41,
          47,
          80,
          14,
          33,
          7,
          63,
          44,
          72,
          68,
          57,
          19,
          6,
          67,
          90,
          13,
          59,
          11,
          73,
          78,
          66,
          69,
          76,
          82,
          64,
          89,
          77,
          86,
          71,
          83,
          84,
          74,
          92,
          88,
          79,
          81,
          96,
          87,
          95,
          100,
          99,
          93,
          116,
          110,
          101,
          115,
          91,
          105
         ],
         "y": [
          737,
          358,
          319,
          299,
          296,
          257,
          232,
          221,
          212,
          195,
          180,
          167,
          158,
          155,
          142,
          134,
          130,
          127,
          121,
          120,
          115,
          107,
          107,
          103,
          100,
          98,
          97,
          97,
          92,
          91,
          91,
          88,
          81,
          81,
          80,
          79,
          76,
          72,
          62,
          62,
          61,
          59,
          58,
          55,
          55,
          55,
          55,
          53,
          53,
          52,
          51,
          50,
          50,
          50,
          49,
          48,
          46,
          44,
          43,
          40,
          38,
          36,
          35,
          35,
          34,
          34,
          32,
          32,
          29,
          28,
          27,
          27,
          22,
          22,
          22,
          17,
          15,
          13,
          13,
          12,
          11,
          11,
          10,
          9,
          9,
          9,
          8,
          6,
          5,
          5,
          4,
          3,
          3,
          3,
          3,
          3,
          2,
          2,
          2,
          1,
          1,
          1
         ]
        }
       ],
       "layout": {
        "template": {
         "data": {
          "bar": [
           {
            "error_x": {
             "color": "#2a3f5f"
            },
            "error_y": {
             "color": "#2a3f5f"
            },
            "marker": {
             "line": {
              "color": "#E5ECF6",
              "width": 0.5
             },
             "pattern": {
              "fillmode": "overlay",
              "size": 10,
              "solidity": 0.2
             }
            },
            "type": "bar"
           }
          ],
          "barpolar": [
           {
            "marker": {
             "line": {
              "color": "#E5ECF6",
              "width": 0.5
             },
             "pattern": {
              "fillmode": "overlay",
              "size": 10,
              "solidity": 0.2
             }
            },
            "type": "barpolar"
           }
          ],
          "carpet": [
           {
            "aaxis": {
             "endlinecolor": "#2a3f5f",
             "gridcolor": "white",
             "linecolor": "white",
             "minorgridcolor": "white",
             "startlinecolor": "#2a3f5f"
            },
            "baxis": {
             "endlinecolor": "#2a3f5f",
             "gridcolor": "white",
             "linecolor": "white",
             "minorgridcolor": "white",
             "startlinecolor": "#2a3f5f"
            },
            "type": "carpet"
           }
          ],
          "choropleth": [
           {
            "colorbar": {
             "outlinewidth": 0,
             "ticks": ""
            },
            "type": "choropleth"
           }
          ],
          "contour": [
           {
            "colorbar": {
             "outlinewidth": 0,
             "ticks": ""
            },
            "colorscale": [
             [
              0,
              "#0d0887"
             ],
             [
              0.1111111111111111,
              "#46039f"
             ],
             [
              0.2222222222222222,
              "#7201a8"
             ],
             [
              0.3333333333333333,
              "#9c179e"
             ],
             [
              0.4444444444444444,
              "#bd3786"
             ],
             [
              0.5555555555555556,
              "#d8576b"
             ],
             [
              0.6666666666666666,
              "#ed7953"
             ],
             [
              0.7777777777777778,
              "#fb9f3a"
             ],
             [
              0.8888888888888888,
              "#fdca26"
             ],
             [
              1,
              "#f0f921"
             ]
            ],
            "type": "contour"
           }
          ],
          "contourcarpet": [
           {
            "colorbar": {
             "outlinewidth": 0,
             "ticks": ""
            },
            "type": "contourcarpet"
           }
          ],
          "heatmap": [
           {
            "colorbar": {
             "outlinewidth": 0,
             "ticks": ""
            },
            "colorscale": [
             [
              0,
              "#0d0887"
             ],
             [
              0.1111111111111111,
              "#46039f"
             ],
             [
              0.2222222222222222,
              "#7201a8"
             ],
             [
              0.3333333333333333,
              "#9c179e"
             ],
             [
              0.4444444444444444,
              "#bd3786"
             ],
             [
              0.5555555555555556,
              "#d8576b"
             ],
             [
              0.6666666666666666,
              "#ed7953"
             ],
             [
              0.7777777777777778,
              "#fb9f3a"
             ],
             [
              0.8888888888888888,
              "#fdca26"
             ],
             [
              1,
              "#f0f921"
             ]
            ],
            "type": "heatmap"
           }
          ],
          "heatmapgl": [
           {
            "colorbar": {
             "outlinewidth": 0,
             "ticks": ""
            },
            "colorscale": [
             [
              0,
              "#0d0887"
             ],
             [
              0.1111111111111111,
              "#46039f"
             ],
             [
              0.2222222222222222,
              "#7201a8"
             ],
             [
              0.3333333333333333,
              "#9c179e"
             ],
             [
              0.4444444444444444,
              "#bd3786"
             ],
             [
              0.5555555555555556,
              "#d8576b"
             ],
             [
              0.6666666666666666,
              "#ed7953"
             ],
             [
              0.7777777777777778,
              "#fb9f3a"
             ],
             [
              0.8888888888888888,
              "#fdca26"
             ],
             [
              1,
              "#f0f921"
             ]
            ],
            "type": "heatmapgl"
           }
          ],
          "histogram": [
           {
            "marker": {
             "pattern": {
              "fillmode": "overlay",
              "size": 10,
              "solidity": 0.2
             }
            },
            "type": "histogram"
           }
          ],
          "histogram2d": [
           {
            "colorbar": {
             "outlinewidth": 0,
             "ticks": ""
            },
            "colorscale": [
             [
              0,
              "#0d0887"
             ],
             [
              0.1111111111111111,
              "#46039f"
             ],
             [
              0.2222222222222222,
              "#7201a8"
             ],
             [
              0.3333333333333333,
              "#9c179e"
             ],
             [
              0.4444444444444444,
              "#bd3786"
             ],
             [
              0.5555555555555556,
              "#d8576b"
             ],
             [
              0.6666666666666666,
              "#ed7953"
             ],
             [
              0.7777777777777778,
              "#fb9f3a"
             ],
             [
              0.8888888888888888,
              "#fdca26"
             ],
             [
              1,
              "#f0f921"
             ]
            ],
            "type": "histogram2d"
           }
          ],
          "histogram2dcontour": [
           {
            "colorbar": {
             "outlinewidth": 0,
             "ticks": ""
            },
            "colorscale": [
             [
              0,
              "#0d0887"
             ],
             [
              0.1111111111111111,
              "#46039f"
             ],
             [
              0.2222222222222222,
              "#7201a8"
             ],
             [
              0.3333333333333333,
              "#9c179e"
             ],
             [
              0.4444444444444444,
              "#bd3786"
             ],
             [
              0.5555555555555556,
              "#d8576b"
             ],
             [
              0.6666666666666666,
              "#ed7953"
             ],
             [
              0.7777777777777778,
              "#fb9f3a"
             ],
             [
              0.8888888888888888,
              "#fdca26"
             ],
             [
              1,
              "#f0f921"
             ]
            ],
            "type": "histogram2dcontour"
           }
          ],
          "mesh3d": [
           {
            "colorbar": {
             "outlinewidth": 0,
             "ticks": ""
            },
            "type": "mesh3d"
           }
          ],
          "parcoords": [
           {
            "line": {
             "colorbar": {
              "outlinewidth": 0,
              "ticks": ""
             }
            },
            "type": "parcoords"
           }
          ],
          "pie": [
           {
            "automargin": true,
            "type": "pie"
           }
          ],
          "scatter": [
           {
            "fillpattern": {
             "fillmode": "overlay",
             "size": 10,
             "solidity": 0.2
            },
            "type": "scatter"
           }
          ],
          "scatter3d": [
           {
            "line": {
             "colorbar": {
              "outlinewidth": 0,
              "ticks": ""
             }
            },
            "marker": {
             "colorbar": {
              "outlinewidth": 0,
              "ticks": ""
             }
            },
            "type": "scatter3d"
           }
          ],
          "scattercarpet": [
           {
            "marker": {
             "colorbar": {
              "outlinewidth": 0,
              "ticks": ""
             }
            },
            "type": "scattercarpet"
           }
          ],
          "scattergeo": [
           {
            "marker": {
             "colorbar": {
              "outlinewidth": 0,
              "ticks": ""
             }
            },
            "type": "scattergeo"
           }
          ],
          "scattergl": [
           {
            "marker": {
             "colorbar": {
              "outlinewidth": 0,
              "ticks": ""
             }
            },
            "type": "scattergl"
           }
          ],
          "scattermapbox": [
           {
            "marker": {
             "colorbar": {
              "outlinewidth": 0,
              "ticks": ""
             }
            },
            "type": "scattermapbox"
           }
          ],
          "scatterpolar": [
           {
            "marker": {
             "colorbar": {
              "outlinewidth": 0,
              "ticks": ""
             }
            },
            "type": "scatterpolar"
           }
          ],
          "scatterpolargl": [
           {
            "marker": {
             "colorbar": {
              "outlinewidth": 0,
              "ticks": ""
             }
            },
            "type": "scatterpolargl"
           }
          ],
          "scatterternary": [
           {
            "marker": {
             "colorbar": {
              "outlinewidth": 0,
              "ticks": ""
             }
            },
            "type": "scatterternary"
           }
          ],
          "surface": [
           {
            "colorbar": {
             "outlinewidth": 0,
             "ticks": ""
            },
            "colorscale": [
             [
              0,
              "#0d0887"
             ],
             [
              0.1111111111111111,
              "#46039f"
             ],
             [
              0.2222222222222222,
              "#7201a8"
             ],
             [
              0.3333333333333333,
              "#9c179e"
             ],
             [
              0.4444444444444444,
              "#bd3786"
             ],
             [
              0.5555555555555556,
              "#d8576b"
             ],
             [
              0.6666666666666666,
              "#ed7953"
             ],
             [
              0.7777777777777778,
              "#fb9f3a"
             ],
             [
              0.8888888888888888,
              "#fdca26"
             ],
             [
              1,
              "#f0f921"
             ]
            ],
            "type": "surface"
           }
          ],
          "table": [
           {
            "cells": {
             "fill": {
              "color": "#EBF0F8"
             },
             "line": {
              "color": "white"
             }
            },
            "header": {
             "fill": {
              "color": "#C8D4E3"
             },
             "line": {
              "color": "white"
             }
            },
            "type": "table"
           }
          ]
         },
         "layout": {
          "annotationdefaults": {
           "arrowcolor": "#2a3f5f",
           "arrowhead": 0,
           "arrowwidth": 1
          },
          "autotypenumbers": "strict",
          "coloraxis": {
           "colorbar": {
            "outlinewidth": 0,
            "ticks": ""
           }
          },
          "colorscale": {
           "diverging": [
            [
             0,
             "#8e0152"
            ],
            [
             0.1,
             "#c51b7d"
            ],
            [
             0.2,
             "#de77ae"
            ],
            [
             0.3,
             "#f1b6da"
            ],
            [
             0.4,
             "#fde0ef"
            ],
            [
             0.5,
             "#f7f7f7"
            ],
            [
             0.6,
             "#e6f5d0"
            ],
            [
             0.7,
             "#b8e186"
            ],
            [
             0.8,
             "#7fbc41"
            ],
            [
             0.9,
             "#4d9221"
            ],
            [
             1,
             "#276419"
            ]
           ],
           "sequential": [
            [
             0,
             "#0d0887"
            ],
            [
             0.1111111111111111,
             "#46039f"
            ],
            [
             0.2222222222222222,
             "#7201a8"
            ],
            [
             0.3333333333333333,
             "#9c179e"
            ],
            [
             0.4444444444444444,
             "#bd3786"
            ],
            [
             0.5555555555555556,
             "#d8576b"
            ],
            [
             0.6666666666666666,
             "#ed7953"
            ],
            [
             0.7777777777777778,
             "#fb9f3a"
            ],
            [
             0.8888888888888888,
             "#fdca26"
            ],
            [
             1,
             "#f0f921"
            ]
           ],
           "sequentialminus": [
            [
             0,
             "#0d0887"
            ],
            [
             0.1111111111111111,
             "#46039f"
            ],
            [
             0.2222222222222222,
             "#7201a8"
            ],
            [
             0.3333333333333333,
             "#9c179e"
            ],
            [
             0.4444444444444444,
             "#bd3786"
            ],
            [
             0.5555555555555556,
             "#d8576b"
            ],
            [
             0.6666666666666666,
             "#ed7953"
            ],
            [
             0.7777777777777778,
             "#fb9f3a"
            ],
            [
             0.8888888888888888,
             "#fdca26"
            ],
            [
             1,
             "#f0f921"
            ]
           ]
          },
          "colorway": [
           "#636efa",
           "#EF553B",
           "#00cc96",
           "#ab63fa",
           "#FFA15A",
           "#19d3f3",
           "#FF6692",
           "#B6E880",
           "#FF97FF",
           "#FECB52"
          ],
          "font": {
           "color": "#2a3f5f"
          },
          "geo": {
           "bgcolor": "white",
           "lakecolor": "white",
           "landcolor": "#E5ECF6",
           "showlakes": true,
           "showland": true,
           "subunitcolor": "white"
          },
          "hoverlabel": {
           "align": "left"
          },
          "hovermode": "closest",
          "mapbox": {
           "style": "light"
          },
          "paper_bgcolor": "white",
          "plot_bgcolor": "#E5ECF6",
          "polar": {
           "angularaxis": {
            "gridcolor": "white",
            "linecolor": "white",
            "ticks": ""
           },
           "bgcolor": "#E5ECF6",
           "radialaxis": {
            "gridcolor": "white",
            "linecolor": "white",
            "ticks": ""
           }
          },
          "scene": {
           "xaxis": {
            "backgroundcolor": "#E5ECF6",
            "gridcolor": "white",
            "gridwidth": 2,
            "linecolor": "white",
            "showbackground": true,
            "ticks": "",
            "zerolinecolor": "white"
           },
           "yaxis": {
            "backgroundcolor": "#E5ECF6",
            "gridcolor": "white",
            "gridwidth": 2,
            "linecolor": "white",
            "showbackground": true,
            "ticks": "",
            "zerolinecolor": "white"
           },
           "zaxis": {
            "backgroundcolor": "#E5ECF6",
            "gridcolor": "white",
            "gridwidth": 2,
            "linecolor": "white",
            "showbackground": true,
            "ticks": "",
            "zerolinecolor": "white"
           }
          },
          "shapedefaults": {
           "line": {
            "color": "#2a3f5f"
           }
          },
          "ternary": {
           "aaxis": {
            "gridcolor": "white",
            "linecolor": "white",
            "ticks": ""
           },
           "baxis": {
            "gridcolor": "white",
            "linecolor": "white",
            "ticks": ""
           },
           "bgcolor": "#E5ECF6",
           "caxis": {
            "gridcolor": "white",
            "linecolor": "white",
            "ticks": ""
           }
          },
          "title": {
           "x": 0.05
          },
          "xaxis": {
           "automargin": true,
           "gridcolor": "white",
           "linecolor": "white",
           "ticks": "",
           "title": {
            "standoff": 15
           },
           "zerolinecolor": "white",
           "zerolinewidth": 2
          },
          "yaxis": {
           "automargin": true,
           "gridcolor": "white",
           "linecolor": "white",
           "ticks": "",
           "title": {
            "standoff": 15
           },
           "zerolinecolor": "white",
           "zerolinewidth": 2
          }
         }
        },
        "title": {
         "text": "Age Distribution"
        }
       }
      },
      "text/html": [
       "<div>                            <div id=\"b93a58a7-24b1-4d57-b212-66c6d0e5e0aa\" class=\"plotly-graph-div\" style=\"height:525px; width:100%;\"></div>            <script type=\"text/javascript\">                require([\"plotly\"], function(Plotly) {                    window.PLOTLYENV=window.PLOTLYENV || {};                                    if (document.getElementById(\"b93a58a7-24b1-4d57-b212-66c6d0e5e0aa\")) {                    Plotly.newPlot(                        \"b93a58a7-24b1-4d57-b212-66c6d0e5e0aa\",                        [{\"x\":[26.0,1.0,28.0,24.0,35.0,25.0,30.0,32.0,27.0,29.0,40.0,2.0,45.0,36.0,23.0,22.0,54.0,31.0,21.0,34.0,50.0,37.0,20.0,55.0,4.0,60.0,3.0,58.0,42.0,16.0,38.0,65.0,18.0,8.0,53.0,39.0,52.0,56.0,15.0,9.0,5.0,17.0,48.0,12.0,46.0,85.0,10.0,61.0,49.0,43.0,70.0,75.0,62.0,51.0,41.0,47.0,80.0,14.0,33.0,7.0,63.0,44.0,72.0,68.0,57.0,19.0,6.0,67.0,90.0,13.0,59.0,11.0,73.0,78.0,66.0,69.0,76.0,82.0,64.0,89.0,77.0,86.0,71.0,83.0,84.0,74.0,92.0,88.0,79.0,81.0,96.0,87.0,95.0,100.0,99.0,93.0,116.0,110.0,101.0,115.0,91.0,105.0],\"y\":[737,358,319,299,296,257,232,221,212,195,180,167,158,155,142,134,130,127,121,120,115,107,107,103,100,98,97,97,92,91,91,88,81,81,80,79,76,72,62,62,61,59,58,55,55,55,55,53,53,52,51,50,50,50,49,48,46,44,43,40,38,36,35,35,34,34,32,32,29,28,27,27,22,22,22,17,15,13,13,12,11,11,10,9,9,9,8,6,5,5,4,3,3,3,3,3,2,2,2,1,1,1],\"type\":\"bar\"}],                        {\"template\":{\"data\":{\"histogram2dcontour\":[{\"type\":\"histogram2dcontour\",\"colorbar\":{\"outlinewidth\":0,\"ticks\":\"\"},\"colorscale\":[[0.0,\"#0d0887\"],[0.1111111111111111,\"#46039f\"],[0.2222222222222222,\"#7201a8\"],[0.3333333333333333,\"#9c179e\"],[0.4444444444444444,\"#bd3786\"],[0.5555555555555556,\"#d8576b\"],[0.6666666666666666,\"#ed7953\"],[0.7777777777777778,\"#fb9f3a\"],[0.8888888888888888,\"#fdca26\"],[1.0,\"#f0f921\"]]}],\"choropleth\":[{\"type\":\"choropleth\",\"colorbar\":{\"outlinewidth\":0,\"ticks\":\"\"}}],\"histogram2d\":[{\"type\":\"histogram2d\",\"colorbar\":{\"outlinewidth\":0,\"ticks\":\"\"},\"colorscale\":[[0.0,\"#0d0887\"],[0.1111111111111111,\"#46039f\"],[0.2222222222222222,\"#7201a8\"],[0.3333333333333333,\"#9c179e\"],[0.4444444444444444,\"#bd3786\"],[0.5555555555555556,\"#d8576b\"],[0.6666666666666666,\"#ed7953\"],[0.7777777777777778,\"#fb9f3a\"],[0.8888888888888888,\"#fdca26\"],[1.0,\"#f0f921\"]]}],\"heatmap\":[{\"type\":\"heatmap\",\"colorbar\":{\"outlinewidth\":0,\"ticks\":\"\"},\"colorscale\":[[0.0,\"#0d0887\"],[0.1111111111111111,\"#46039f\"],[0.2222222222222222,\"#7201a8\"],[0.3333333333333333,\"#9c179e\"],[0.4444444444444444,\"#bd3786\"],[0.5555555555555556,\"#d8576b\"],[0.6666666666666666,\"#ed7953\"],[0.7777777777777778,\"#fb9f3a\"],[0.8888888888888888,\"#fdca26\"],[1.0,\"#f0f921\"]]}],\"heatmapgl\":[{\"type\":\"heatmapgl\",\"colorbar\":{\"outlinewidth\":0,\"ticks\":\"\"},\"colorscale\":[[0.0,\"#0d0887\"],[0.1111111111111111,\"#46039f\"],[0.2222222222222222,\"#7201a8\"],[0.3333333333333333,\"#9c179e\"],[0.4444444444444444,\"#bd3786\"],[0.5555555555555556,\"#d8576b\"],[0.6666666666666666,\"#ed7953\"],[0.7777777777777778,\"#fb9f3a\"],[0.8888888888888888,\"#fdca26\"],[1.0,\"#f0f921\"]]}],\"contourcarpet\":[{\"type\":\"contourcarpet\",\"colorbar\":{\"outlinewidth\":0,\"ticks\":\"\"}}],\"contour\":[{\"type\":\"contour\",\"colorbar\":{\"outlinewidth\":0,\"ticks\":\"\"},\"colorscale\":[[0.0,\"#0d0887\"],[0.1111111111111111,\"#46039f\"],[0.2222222222222222,\"#7201a8\"],[0.3333333333333333,\"#9c179e\"],[0.4444444444444444,\"#bd3786\"],[0.5555555555555556,\"#d8576b\"],[0.6666666666666666,\"#ed7953\"],[0.7777777777777778,\"#fb9f3a\"],[0.8888888888888888,\"#fdca26\"],[1.0,\"#f0f921\"]]}],\"surface\":[{\"type\":\"surface\",\"colorbar\":{\"outlinewidth\":0,\"ticks\":\"\"},\"colorscale\":[[0.0,\"#0d0887\"],[0.1111111111111111,\"#46039f\"],[0.2222222222222222,\"#7201a8\"],[0.3333333333333333,\"#9c179e\"],[0.4444444444444444,\"#bd3786\"],[0.5555555555555556,\"#d8576b\"],[0.6666666666666666,\"#ed7953\"],[0.7777777777777778,\"#fb9f3a\"],[0.8888888888888888,\"#fdca26\"],[1.0,\"#f0f921\"]]}],\"mesh3d\":[{\"type\":\"mesh3d\",\"colorbar\":{\"outlinewidth\":0,\"ticks\":\"\"}}],\"scatter\":[{\"fillpattern\":{\"fillmode\":\"overlay\",\"size\":10,\"solidity\":0.2},\"type\":\"scatter\"}],\"parcoords\":[{\"type\":\"parcoords\",\"line\":{\"colorbar\":{\"outlinewidth\":0,\"ticks\":\"\"}}}],\"scatterpolargl\":[{\"type\":\"scatterpolargl\",\"marker\":{\"colorbar\":{\"outlinewidth\":0,\"ticks\":\"\"}}}],\"bar\":[{\"error_x\":{\"color\":\"#2a3f5f\"},\"error_y\":{\"color\":\"#2a3f5f\"},\"marker\":{\"line\":{\"color\":\"#E5ECF6\",\"width\":0.5},\"pattern\":{\"fillmode\":\"overlay\",\"size\":10,\"solidity\":0.2}},\"type\":\"bar\"}],\"scattergeo\":[{\"type\":\"scattergeo\",\"marker\":{\"colorbar\":{\"outlinewidth\":0,\"ticks\":\"\"}}}],\"scatterpolar\":[{\"type\":\"scatterpolar\",\"marker\":{\"colorbar\":{\"outlinewidth\":0,\"ticks\":\"\"}}}],\"histogram\":[{\"marker\":{\"pattern\":{\"fillmode\":\"overlay\",\"size\":10,\"solidity\":0.2}},\"type\":\"histogram\"}],\"scattergl\":[{\"type\":\"scattergl\",\"marker\":{\"colorbar\":{\"outlinewidth\":0,\"ticks\":\"\"}}}],\"scatter3d\":[{\"type\":\"scatter3d\",\"line\":{\"colorbar\":{\"outlinewidth\":0,\"ticks\":\"\"}},\"marker\":{\"colorbar\":{\"outlinewidth\":0,\"ticks\":\"\"}}}],\"scattermapbox\":[{\"type\":\"scattermapbox\",\"marker\":{\"colorbar\":{\"outlinewidth\":0,\"ticks\":\"\"}}}],\"scatterternary\":[{\"type\":\"scatterternary\",\"marker\":{\"colorbar\":{\"outlinewidth\":0,\"ticks\":\"\"}}}],\"scattercarpet\":[{\"type\":\"scattercarpet\",\"marker\":{\"colorbar\":{\"outlinewidth\":0,\"ticks\":\"\"}}}],\"carpet\":[{\"aaxis\":{\"endlinecolor\":\"#2a3f5f\",\"gridcolor\":\"white\",\"linecolor\":\"white\",\"minorgridcolor\":\"white\",\"startlinecolor\":\"#2a3f5f\"},\"baxis\":{\"endlinecolor\":\"#2a3f5f\",\"gridcolor\":\"white\",\"linecolor\":\"white\",\"minorgridcolor\":\"white\",\"startlinecolor\":\"#2a3f5f\"},\"type\":\"carpet\"}],\"table\":[{\"cells\":{\"fill\":{\"color\":\"#EBF0F8\"},\"line\":{\"color\":\"white\"}},\"header\":{\"fill\":{\"color\":\"#C8D4E3\"},\"line\":{\"color\":\"white\"}},\"type\":\"table\"}],\"barpolar\":[{\"marker\":{\"line\":{\"color\":\"#E5ECF6\",\"width\":0.5},\"pattern\":{\"fillmode\":\"overlay\",\"size\":10,\"solidity\":0.2}},\"type\":\"barpolar\"}],\"pie\":[{\"automargin\":true,\"type\":\"pie\"}]},\"layout\":{\"autotypenumbers\":\"strict\",\"colorway\":[\"#636efa\",\"#EF553B\",\"#00cc96\",\"#ab63fa\",\"#FFA15A\",\"#19d3f3\",\"#FF6692\",\"#B6E880\",\"#FF97FF\",\"#FECB52\"],\"font\":{\"color\":\"#2a3f5f\"},\"hovermode\":\"closest\",\"hoverlabel\":{\"align\":\"left\"},\"paper_bgcolor\":\"white\",\"plot_bgcolor\":\"#E5ECF6\",\"polar\":{\"bgcolor\":\"#E5ECF6\",\"angularaxis\":{\"gridcolor\":\"white\",\"linecolor\":\"white\",\"ticks\":\"\"},\"radialaxis\":{\"gridcolor\":\"white\",\"linecolor\":\"white\",\"ticks\":\"\"}},\"ternary\":{\"bgcolor\":\"#E5ECF6\",\"aaxis\":{\"gridcolor\":\"white\",\"linecolor\":\"white\",\"ticks\":\"\"},\"baxis\":{\"gridcolor\":\"white\",\"linecolor\":\"white\",\"ticks\":\"\"},\"caxis\":{\"gridcolor\":\"white\",\"linecolor\":\"white\",\"ticks\":\"\"}},\"coloraxis\":{\"colorbar\":{\"outlinewidth\":0,\"ticks\":\"\"}},\"colorscale\":{\"sequential\":[[0.0,\"#0d0887\"],[0.1111111111111111,\"#46039f\"],[0.2222222222222222,\"#7201a8\"],[0.3333333333333333,\"#9c179e\"],[0.4444444444444444,\"#bd3786\"],[0.5555555555555556,\"#d8576b\"],[0.6666666666666666,\"#ed7953\"],[0.7777777777777778,\"#fb9f3a\"],[0.8888888888888888,\"#fdca26\"],[1.0,\"#f0f921\"]],\"sequentialminus\":[[0.0,\"#0d0887\"],[0.1111111111111111,\"#46039f\"],[0.2222222222222222,\"#7201a8\"],[0.3333333333333333,\"#9c179e\"],[0.4444444444444444,\"#bd3786\"],[0.5555555555555556,\"#d8576b\"],[0.6666666666666666,\"#ed7953\"],[0.7777777777777778,\"#fb9f3a\"],[0.8888888888888888,\"#fdca26\"],[1.0,\"#f0f921\"]],\"diverging\":[[0,\"#8e0152\"],[0.1,\"#c51b7d\"],[0.2,\"#de77ae\"],[0.3,\"#f1b6da\"],[0.4,\"#fde0ef\"],[0.5,\"#f7f7f7\"],[0.6,\"#e6f5d0\"],[0.7,\"#b8e186\"],[0.8,\"#7fbc41\"],[0.9,\"#4d9221\"],[1,\"#276419\"]]},\"xaxis\":{\"gridcolor\":\"white\",\"linecolor\":\"white\",\"ticks\":\"\",\"title\":{\"standoff\":15},\"zerolinecolor\":\"white\",\"automargin\":true,\"zerolinewidth\":2},\"yaxis\":{\"gridcolor\":\"white\",\"linecolor\":\"white\",\"ticks\":\"\",\"title\":{\"standoff\":15},\"zerolinecolor\":\"white\",\"automargin\":true,\"zerolinewidth\":2},\"scene\":{\"xaxis\":{\"backgroundcolor\":\"#E5ECF6\",\"gridcolor\":\"white\",\"linecolor\":\"white\",\"showbackground\":true,\"ticks\":\"\",\"zerolinecolor\":\"white\",\"gridwidth\":2},\"yaxis\":{\"backgroundcolor\":\"#E5ECF6\",\"gridcolor\":\"white\",\"linecolor\":\"white\",\"showbackground\":true,\"ticks\":\"\",\"zerolinecolor\":\"white\",\"gridwidth\":2},\"zaxis\":{\"backgroundcolor\":\"#E5ECF6\",\"gridcolor\":\"white\",\"linecolor\":\"white\",\"showbackground\":true,\"ticks\":\"\",\"zerolinecolor\":\"white\",\"gridwidth\":2}},\"shapedefaults\":{\"line\":{\"color\":\"#2a3f5f\"}},\"annotationdefaults\":{\"arrowcolor\":\"#2a3f5f\",\"arrowhead\":0,\"arrowwidth\":1},\"geo\":{\"bgcolor\":\"white\",\"landcolor\":\"#E5ECF6\",\"subunitcolor\":\"white\",\"showland\":true,\"showlakes\":true,\"lakecolor\":\"white\"},\"title\":{\"x\":0.05},\"mapbox\":{\"style\":\"light\"}}},\"title\":{\"text\":\"Age Distribution\"}},                        {\"responsive\": true}                    ).then(function(){\n",
       "                            \n",
       "var gd = document.getElementById('b93a58a7-24b1-4d57-b212-66c6d0e5e0aa');\n",
       "var x = new MutationObserver(function (mutations, observer) {{\n",
       "        var display = window.getComputedStyle(gd).display;\n",
       "        if (!display || display === 'none') {{\n",
       "            console.log([gd, 'removed!']);\n",
       "            Plotly.purge(gd);\n",
       "            observer.disconnect();\n",
       "        }}\n",
       "}});\n",
       "\n",
       "// Listen for the removal of the full notebook cells\n",
       "var notebookContainer = gd.closest('#notebook-container');\n",
       "if (notebookContainer) {{\n",
       "    x.observe(notebookContainer, {childList: true});\n",
       "}}\n",
       "\n",
       "// Listen for the clearing of the current output cell\n",
       "var outputEl = gd.closest('.output');\n",
       "if (outputEl) {{\n",
       "    x.observe(outputEl, {childList: true});\n",
       "}}\n",
       "\n",
       "                        })                };                });            </script>        </div>"
      ]
     },
     "metadata": {},
     "output_type": "display_data"
    }
   ],
   "source": [
    "ditribution_plot(x=age_dist.index, y=age_dist.values, name='Age Distribution')"
   ]
  },
  {
   "cell_type": "code",
   "execution_count": 193,
   "metadata": {
    "colab": {
     "base_uri": "https://localhost:8080/",
     "height": 542
    },
    "id": "AATYqeINPWsB",
    "outputId": "3860e12a-324f-4431-de39-3b5ebb552390"
   },
   "outputs": [
    {
     "data": {
      "application/vnd.plotly.v1+json": {
       "config": {
        "plotlyServerURL": "https://plot.ly"
       },
       "data": [
        {
         "type": "bar",
         "x": [
          "Male",
          "Female"
         ],
         "y": [
          4213,
          3787
         ]
        }
       ],
       "layout": {
        "template": {
         "data": {
          "bar": [
           {
            "error_x": {
             "color": "#2a3f5f"
            },
            "error_y": {
             "color": "#2a3f5f"
            },
            "marker": {
             "line": {
              "color": "#E5ECF6",
              "width": 0.5
             },
             "pattern": {
              "fillmode": "overlay",
              "size": 10,
              "solidity": 0.2
             }
            },
            "type": "bar"
           }
          ],
          "barpolar": [
           {
            "marker": {
             "line": {
              "color": "#E5ECF6",
              "width": 0.5
             },
             "pattern": {
              "fillmode": "overlay",
              "size": 10,
              "solidity": 0.2
             }
            },
            "type": "barpolar"
           }
          ],
          "carpet": [
           {
            "aaxis": {
             "endlinecolor": "#2a3f5f",
             "gridcolor": "white",
             "linecolor": "white",
             "minorgridcolor": "white",
             "startlinecolor": "#2a3f5f"
            },
            "baxis": {
             "endlinecolor": "#2a3f5f",
             "gridcolor": "white",
             "linecolor": "white",
             "minorgridcolor": "white",
             "startlinecolor": "#2a3f5f"
            },
            "type": "carpet"
           }
          ],
          "choropleth": [
           {
            "colorbar": {
             "outlinewidth": 0,
             "ticks": ""
            },
            "type": "choropleth"
           }
          ],
          "contour": [
           {
            "colorbar": {
             "outlinewidth": 0,
             "ticks": ""
            },
            "colorscale": [
             [
              0,
              "#0d0887"
             ],
             [
              0.1111111111111111,
              "#46039f"
             ],
             [
              0.2222222222222222,
              "#7201a8"
             ],
             [
              0.3333333333333333,
              "#9c179e"
             ],
             [
              0.4444444444444444,
              "#bd3786"
             ],
             [
              0.5555555555555556,
              "#d8576b"
             ],
             [
              0.6666666666666666,
              "#ed7953"
             ],
             [
              0.7777777777777778,
              "#fb9f3a"
             ],
             [
              0.8888888888888888,
              "#fdca26"
             ],
             [
              1,
              "#f0f921"
             ]
            ],
            "type": "contour"
           }
          ],
          "contourcarpet": [
           {
            "colorbar": {
             "outlinewidth": 0,
             "ticks": ""
            },
            "type": "contourcarpet"
           }
          ],
          "heatmap": [
           {
            "colorbar": {
             "outlinewidth": 0,
             "ticks": ""
            },
            "colorscale": [
             [
              0,
              "#0d0887"
             ],
             [
              0.1111111111111111,
              "#46039f"
             ],
             [
              0.2222222222222222,
              "#7201a8"
             ],
             [
              0.3333333333333333,
              "#9c179e"
             ],
             [
              0.4444444444444444,
              "#bd3786"
             ],
             [
              0.5555555555555556,
              "#d8576b"
             ],
             [
              0.6666666666666666,
              "#ed7953"
             ],
             [
              0.7777777777777778,
              "#fb9f3a"
             ],
             [
              0.8888888888888888,
              "#fdca26"
             ],
             [
              1,
              "#f0f921"
             ]
            ],
            "type": "heatmap"
           }
          ],
          "heatmapgl": [
           {
            "colorbar": {
             "outlinewidth": 0,
             "ticks": ""
            },
            "colorscale": [
             [
              0,
              "#0d0887"
             ],
             [
              0.1111111111111111,
              "#46039f"
             ],
             [
              0.2222222222222222,
              "#7201a8"
             ],
             [
              0.3333333333333333,
              "#9c179e"
             ],
             [
              0.4444444444444444,
              "#bd3786"
             ],
             [
              0.5555555555555556,
              "#d8576b"
             ],
             [
              0.6666666666666666,
              "#ed7953"
             ],
             [
              0.7777777777777778,
              "#fb9f3a"
             ],
             [
              0.8888888888888888,
              "#fdca26"
             ],
             [
              1,
              "#f0f921"
             ]
            ],
            "type": "heatmapgl"
           }
          ],
          "histogram": [
           {
            "marker": {
             "pattern": {
              "fillmode": "overlay",
              "size": 10,
              "solidity": 0.2
             }
            },
            "type": "histogram"
           }
          ],
          "histogram2d": [
           {
            "colorbar": {
             "outlinewidth": 0,
             "ticks": ""
            },
            "colorscale": [
             [
              0,
              "#0d0887"
             ],
             [
              0.1111111111111111,
              "#46039f"
             ],
             [
              0.2222222222222222,
              "#7201a8"
             ],
             [
              0.3333333333333333,
              "#9c179e"
             ],
             [
              0.4444444444444444,
              "#bd3786"
             ],
             [
              0.5555555555555556,
              "#d8576b"
             ],
             [
              0.6666666666666666,
              "#ed7953"
             ],
             [
              0.7777777777777778,
              "#fb9f3a"
             ],
             [
              0.8888888888888888,
              "#fdca26"
             ],
             [
              1,
              "#f0f921"
             ]
            ],
            "type": "histogram2d"
           }
          ],
          "histogram2dcontour": [
           {
            "colorbar": {
             "outlinewidth": 0,
             "ticks": ""
            },
            "colorscale": [
             [
              0,
              "#0d0887"
             ],
             [
              0.1111111111111111,
              "#46039f"
             ],
             [
              0.2222222222222222,
              "#7201a8"
             ],
             [
              0.3333333333333333,
              "#9c179e"
             ],
             [
              0.4444444444444444,
              "#bd3786"
             ],
             [
              0.5555555555555556,
              "#d8576b"
             ],
             [
              0.6666666666666666,
              "#ed7953"
             ],
             [
              0.7777777777777778,
              "#fb9f3a"
             ],
             [
              0.8888888888888888,
              "#fdca26"
             ],
             [
              1,
              "#f0f921"
             ]
            ],
            "type": "histogram2dcontour"
           }
          ],
          "mesh3d": [
           {
            "colorbar": {
             "outlinewidth": 0,
             "ticks": ""
            },
            "type": "mesh3d"
           }
          ],
          "parcoords": [
           {
            "line": {
             "colorbar": {
              "outlinewidth": 0,
              "ticks": ""
             }
            },
            "type": "parcoords"
           }
          ],
          "pie": [
           {
            "automargin": true,
            "type": "pie"
           }
          ],
          "scatter": [
           {
            "fillpattern": {
             "fillmode": "overlay",
             "size": 10,
             "solidity": 0.2
            },
            "type": "scatter"
           }
          ],
          "scatter3d": [
           {
            "line": {
             "colorbar": {
              "outlinewidth": 0,
              "ticks": ""
             }
            },
            "marker": {
             "colorbar": {
              "outlinewidth": 0,
              "ticks": ""
             }
            },
            "type": "scatter3d"
           }
          ],
          "scattercarpet": [
           {
            "marker": {
             "colorbar": {
              "outlinewidth": 0,
              "ticks": ""
             }
            },
            "type": "scattercarpet"
           }
          ],
          "scattergeo": [
           {
            "marker": {
             "colorbar": {
              "outlinewidth": 0,
              "ticks": ""
             }
            },
            "type": "scattergeo"
           }
          ],
          "scattergl": [
           {
            "marker": {
             "colorbar": {
              "outlinewidth": 0,
              "ticks": ""
             }
            },
            "type": "scattergl"
           }
          ],
          "scattermapbox": [
           {
            "marker": {
             "colorbar": {
              "outlinewidth": 0,
              "ticks": ""
             }
            },
            "type": "scattermapbox"
           }
          ],
          "scatterpolar": [
           {
            "marker": {
             "colorbar": {
              "outlinewidth": 0,
              "ticks": ""
             }
            },
            "type": "scatterpolar"
           }
          ],
          "scatterpolargl": [
           {
            "marker": {
             "colorbar": {
              "outlinewidth": 0,
              "ticks": ""
             }
            },
            "type": "scatterpolargl"
           }
          ],
          "scatterternary": [
           {
            "marker": {
             "colorbar": {
              "outlinewidth": 0,
              "ticks": ""
             }
            },
            "type": "scatterternary"
           }
          ],
          "surface": [
           {
            "colorbar": {
             "outlinewidth": 0,
             "ticks": ""
            },
            "colorscale": [
             [
              0,
              "#0d0887"
             ],
             [
              0.1111111111111111,
              "#46039f"
             ],
             [
              0.2222222222222222,
              "#7201a8"
             ],
             [
              0.3333333333333333,
              "#9c179e"
             ],
             [
              0.4444444444444444,
              "#bd3786"
             ],
             [
              0.5555555555555556,
              "#d8576b"
             ],
             [
              0.6666666666666666,
              "#ed7953"
             ],
             [
              0.7777777777777778,
              "#fb9f3a"
             ],
             [
              0.8888888888888888,
              "#fdca26"
             ],
             [
              1,
              "#f0f921"
             ]
            ],
            "type": "surface"
           }
          ],
          "table": [
           {
            "cells": {
             "fill": {
              "color": "#EBF0F8"
             },
             "line": {
              "color": "white"
             }
            },
            "header": {
             "fill": {
              "color": "#C8D4E3"
             },
             "line": {
              "color": "white"
             }
            },
            "type": "table"
           }
          ]
         },
         "layout": {
          "annotationdefaults": {
           "arrowcolor": "#2a3f5f",
           "arrowhead": 0,
           "arrowwidth": 1
          },
          "autotypenumbers": "strict",
          "coloraxis": {
           "colorbar": {
            "outlinewidth": 0,
            "ticks": ""
           }
          },
          "colorscale": {
           "diverging": [
            [
             0,
             "#8e0152"
            ],
            [
             0.1,
             "#c51b7d"
            ],
            [
             0.2,
             "#de77ae"
            ],
            [
             0.3,
             "#f1b6da"
            ],
            [
             0.4,
             "#fde0ef"
            ],
            [
             0.5,
             "#f7f7f7"
            ],
            [
             0.6,
             "#e6f5d0"
            ],
            [
             0.7,
             "#b8e186"
            ],
            [
             0.8,
             "#7fbc41"
            ],
            [
             0.9,
             "#4d9221"
            ],
            [
             1,
             "#276419"
            ]
           ],
           "sequential": [
            [
             0,
             "#0d0887"
            ],
            [
             0.1111111111111111,
             "#46039f"
            ],
            [
             0.2222222222222222,
             "#7201a8"
            ],
            [
             0.3333333333333333,
             "#9c179e"
            ],
            [
             0.4444444444444444,
             "#bd3786"
            ],
            [
             0.5555555555555556,
             "#d8576b"
            ],
            [
             0.6666666666666666,
             "#ed7953"
            ],
            [
             0.7777777777777778,
             "#fb9f3a"
            ],
            [
             0.8888888888888888,
             "#fdca26"
            ],
            [
             1,
             "#f0f921"
            ]
           ],
           "sequentialminus": [
            [
             0,
             "#0d0887"
            ],
            [
             0.1111111111111111,
             "#46039f"
            ],
            [
             0.2222222222222222,
             "#7201a8"
            ],
            [
             0.3333333333333333,
             "#9c179e"
            ],
            [
             0.4444444444444444,
             "#bd3786"
            ],
            [
             0.5555555555555556,
             "#d8576b"
            ],
            [
             0.6666666666666666,
             "#ed7953"
            ],
            [
             0.7777777777777778,
             "#fb9f3a"
            ],
            [
             0.8888888888888888,
             "#fdca26"
            ],
            [
             1,
             "#f0f921"
            ]
           ]
          },
          "colorway": [
           "#636efa",
           "#EF553B",
           "#00cc96",
           "#ab63fa",
           "#FFA15A",
           "#19d3f3",
           "#FF6692",
           "#B6E880",
           "#FF97FF",
           "#FECB52"
          ],
          "font": {
           "color": "#2a3f5f"
          },
          "geo": {
           "bgcolor": "white",
           "lakecolor": "white",
           "landcolor": "#E5ECF6",
           "showlakes": true,
           "showland": true,
           "subunitcolor": "white"
          },
          "hoverlabel": {
           "align": "left"
          },
          "hovermode": "closest",
          "mapbox": {
           "style": "light"
          },
          "paper_bgcolor": "white",
          "plot_bgcolor": "#E5ECF6",
          "polar": {
           "angularaxis": {
            "gridcolor": "white",
            "linecolor": "white",
            "ticks": ""
           },
           "bgcolor": "#E5ECF6",
           "radialaxis": {
            "gridcolor": "white",
            "linecolor": "white",
            "ticks": ""
           }
          },
          "scene": {
           "xaxis": {
            "backgroundcolor": "#E5ECF6",
            "gridcolor": "white",
            "gridwidth": 2,
            "linecolor": "white",
            "showbackground": true,
            "ticks": "",
            "zerolinecolor": "white"
           },
           "yaxis": {
            "backgroundcolor": "#E5ECF6",
            "gridcolor": "white",
            "gridwidth": 2,
            "linecolor": "white",
            "showbackground": true,
            "ticks": "",
            "zerolinecolor": "white"
           },
           "zaxis": {
            "backgroundcolor": "#E5ECF6",
            "gridcolor": "white",
            "gridwidth": 2,
            "linecolor": "white",
            "showbackground": true,
            "ticks": "",
            "zerolinecolor": "white"
           }
          },
          "shapedefaults": {
           "line": {
            "color": "#2a3f5f"
           }
          },
          "ternary": {
           "aaxis": {
            "gridcolor": "white",
            "linecolor": "white",
            "ticks": ""
           },
           "baxis": {
            "gridcolor": "white",
            "linecolor": "white",
            "ticks": ""
           },
           "bgcolor": "#E5ECF6",
           "caxis": {
            "gridcolor": "white",
            "linecolor": "white",
            "ticks": ""
           }
          },
          "title": {
           "x": 0.05
          },
          "xaxis": {
           "automargin": true,
           "gridcolor": "white",
           "linecolor": "white",
           "ticks": "",
           "title": {
            "standoff": 15
           },
           "zerolinecolor": "white",
           "zerolinewidth": 2
          },
          "yaxis": {
           "automargin": true,
           "gridcolor": "white",
           "linecolor": "white",
           "ticks": "",
           "title": {
            "standoff": 15
           },
           "zerolinecolor": "white",
           "zerolinewidth": 2
          }
         }
        },
        "title": {
         "text": "Gender Distribution"
        }
       }
      },
      "text/html": [
       "<div>                            <div id=\"d62d62c0-6bb7-4cca-be80-82d510381a23\" class=\"plotly-graph-div\" style=\"height:525px; width:100%;\"></div>            <script type=\"text/javascript\">                require([\"plotly\"], function(Plotly) {                    window.PLOTLYENV=window.PLOTLYENV || {};                                    if (document.getElementById(\"d62d62c0-6bb7-4cca-be80-82d510381a23\")) {                    Plotly.newPlot(                        \"d62d62c0-6bb7-4cca-be80-82d510381a23\",                        [{\"x\":[\"Male\",\"Female\"],\"y\":[4213,3787],\"type\":\"bar\"}],                        {\"template\":{\"data\":{\"histogram2dcontour\":[{\"type\":\"histogram2dcontour\",\"colorbar\":{\"outlinewidth\":0,\"ticks\":\"\"},\"colorscale\":[[0.0,\"#0d0887\"],[0.1111111111111111,\"#46039f\"],[0.2222222222222222,\"#7201a8\"],[0.3333333333333333,\"#9c179e\"],[0.4444444444444444,\"#bd3786\"],[0.5555555555555556,\"#d8576b\"],[0.6666666666666666,\"#ed7953\"],[0.7777777777777778,\"#fb9f3a\"],[0.8888888888888888,\"#fdca26\"],[1.0,\"#f0f921\"]]}],\"choropleth\":[{\"type\":\"choropleth\",\"colorbar\":{\"outlinewidth\":0,\"ticks\":\"\"}}],\"histogram2d\":[{\"type\":\"histogram2d\",\"colorbar\":{\"outlinewidth\":0,\"ticks\":\"\"},\"colorscale\":[[0.0,\"#0d0887\"],[0.1111111111111111,\"#46039f\"],[0.2222222222222222,\"#7201a8\"],[0.3333333333333333,\"#9c179e\"],[0.4444444444444444,\"#bd3786\"],[0.5555555555555556,\"#d8576b\"],[0.6666666666666666,\"#ed7953\"],[0.7777777777777778,\"#fb9f3a\"],[0.8888888888888888,\"#fdca26\"],[1.0,\"#f0f921\"]]}],\"heatmap\":[{\"type\":\"heatmap\",\"colorbar\":{\"outlinewidth\":0,\"ticks\":\"\"},\"colorscale\":[[0.0,\"#0d0887\"],[0.1111111111111111,\"#46039f\"],[0.2222222222222222,\"#7201a8\"],[0.3333333333333333,\"#9c179e\"],[0.4444444444444444,\"#bd3786\"],[0.5555555555555556,\"#d8576b\"],[0.6666666666666666,\"#ed7953\"],[0.7777777777777778,\"#fb9f3a\"],[0.8888888888888888,\"#fdca26\"],[1.0,\"#f0f921\"]]}],\"heatmapgl\":[{\"type\":\"heatmapgl\",\"colorbar\":{\"outlinewidth\":0,\"ticks\":\"\"},\"colorscale\":[[0.0,\"#0d0887\"],[0.1111111111111111,\"#46039f\"],[0.2222222222222222,\"#7201a8\"],[0.3333333333333333,\"#9c179e\"],[0.4444444444444444,\"#bd3786\"],[0.5555555555555556,\"#d8576b\"],[0.6666666666666666,\"#ed7953\"],[0.7777777777777778,\"#fb9f3a\"],[0.8888888888888888,\"#fdca26\"],[1.0,\"#f0f921\"]]}],\"contourcarpet\":[{\"type\":\"contourcarpet\",\"colorbar\":{\"outlinewidth\":0,\"ticks\":\"\"}}],\"contour\":[{\"type\":\"contour\",\"colorbar\":{\"outlinewidth\":0,\"ticks\":\"\"},\"colorscale\":[[0.0,\"#0d0887\"],[0.1111111111111111,\"#46039f\"],[0.2222222222222222,\"#7201a8\"],[0.3333333333333333,\"#9c179e\"],[0.4444444444444444,\"#bd3786\"],[0.5555555555555556,\"#d8576b\"],[0.6666666666666666,\"#ed7953\"],[0.7777777777777778,\"#fb9f3a\"],[0.8888888888888888,\"#fdca26\"],[1.0,\"#f0f921\"]]}],\"surface\":[{\"type\":\"surface\",\"colorbar\":{\"outlinewidth\":0,\"ticks\":\"\"},\"colorscale\":[[0.0,\"#0d0887\"],[0.1111111111111111,\"#46039f\"],[0.2222222222222222,\"#7201a8\"],[0.3333333333333333,\"#9c179e\"],[0.4444444444444444,\"#bd3786\"],[0.5555555555555556,\"#d8576b\"],[0.6666666666666666,\"#ed7953\"],[0.7777777777777778,\"#fb9f3a\"],[0.8888888888888888,\"#fdca26\"],[1.0,\"#f0f921\"]]}],\"mesh3d\":[{\"type\":\"mesh3d\",\"colorbar\":{\"outlinewidth\":0,\"ticks\":\"\"}}],\"scatter\":[{\"fillpattern\":{\"fillmode\":\"overlay\",\"size\":10,\"solidity\":0.2},\"type\":\"scatter\"}],\"parcoords\":[{\"type\":\"parcoords\",\"line\":{\"colorbar\":{\"outlinewidth\":0,\"ticks\":\"\"}}}],\"scatterpolargl\":[{\"type\":\"scatterpolargl\",\"marker\":{\"colorbar\":{\"outlinewidth\":0,\"ticks\":\"\"}}}],\"bar\":[{\"error_x\":{\"color\":\"#2a3f5f\"},\"error_y\":{\"color\":\"#2a3f5f\"},\"marker\":{\"line\":{\"color\":\"#E5ECF6\",\"width\":0.5},\"pattern\":{\"fillmode\":\"overlay\",\"size\":10,\"solidity\":0.2}},\"type\":\"bar\"}],\"scattergeo\":[{\"type\":\"scattergeo\",\"marker\":{\"colorbar\":{\"outlinewidth\":0,\"ticks\":\"\"}}}],\"scatterpolar\":[{\"type\":\"scatterpolar\",\"marker\":{\"colorbar\":{\"outlinewidth\":0,\"ticks\":\"\"}}}],\"histogram\":[{\"marker\":{\"pattern\":{\"fillmode\":\"overlay\",\"size\":10,\"solidity\":0.2}},\"type\":\"histogram\"}],\"scattergl\":[{\"type\":\"scattergl\",\"marker\":{\"colorbar\":{\"outlinewidth\":0,\"ticks\":\"\"}}}],\"scatter3d\":[{\"type\":\"scatter3d\",\"line\":{\"colorbar\":{\"outlinewidth\":0,\"ticks\":\"\"}},\"marker\":{\"colorbar\":{\"outlinewidth\":0,\"ticks\":\"\"}}}],\"scattermapbox\":[{\"type\":\"scattermapbox\",\"marker\":{\"colorbar\":{\"outlinewidth\":0,\"ticks\":\"\"}}}],\"scatterternary\":[{\"type\":\"scatterternary\",\"marker\":{\"colorbar\":{\"outlinewidth\":0,\"ticks\":\"\"}}}],\"scattercarpet\":[{\"type\":\"scattercarpet\",\"marker\":{\"colorbar\":{\"outlinewidth\":0,\"ticks\":\"\"}}}],\"carpet\":[{\"aaxis\":{\"endlinecolor\":\"#2a3f5f\",\"gridcolor\":\"white\",\"linecolor\":\"white\",\"minorgridcolor\":\"white\",\"startlinecolor\":\"#2a3f5f\"},\"baxis\":{\"endlinecolor\":\"#2a3f5f\",\"gridcolor\":\"white\",\"linecolor\":\"white\",\"minorgridcolor\":\"white\",\"startlinecolor\":\"#2a3f5f\"},\"type\":\"carpet\"}],\"table\":[{\"cells\":{\"fill\":{\"color\":\"#EBF0F8\"},\"line\":{\"color\":\"white\"}},\"header\":{\"fill\":{\"color\":\"#C8D4E3\"},\"line\":{\"color\":\"white\"}},\"type\":\"table\"}],\"barpolar\":[{\"marker\":{\"line\":{\"color\":\"#E5ECF6\",\"width\":0.5},\"pattern\":{\"fillmode\":\"overlay\",\"size\":10,\"solidity\":0.2}},\"type\":\"barpolar\"}],\"pie\":[{\"automargin\":true,\"type\":\"pie\"}]},\"layout\":{\"autotypenumbers\":\"strict\",\"colorway\":[\"#636efa\",\"#EF553B\",\"#00cc96\",\"#ab63fa\",\"#FFA15A\",\"#19d3f3\",\"#FF6692\",\"#B6E880\",\"#FF97FF\",\"#FECB52\"],\"font\":{\"color\":\"#2a3f5f\"},\"hovermode\":\"closest\",\"hoverlabel\":{\"align\":\"left\"},\"paper_bgcolor\":\"white\",\"plot_bgcolor\":\"#E5ECF6\",\"polar\":{\"bgcolor\":\"#E5ECF6\",\"angularaxis\":{\"gridcolor\":\"white\",\"linecolor\":\"white\",\"ticks\":\"\"},\"radialaxis\":{\"gridcolor\":\"white\",\"linecolor\":\"white\",\"ticks\":\"\"}},\"ternary\":{\"bgcolor\":\"#E5ECF6\",\"aaxis\":{\"gridcolor\":\"white\",\"linecolor\":\"white\",\"ticks\":\"\"},\"baxis\":{\"gridcolor\":\"white\",\"linecolor\":\"white\",\"ticks\":\"\"},\"caxis\":{\"gridcolor\":\"white\",\"linecolor\":\"white\",\"ticks\":\"\"}},\"coloraxis\":{\"colorbar\":{\"outlinewidth\":0,\"ticks\":\"\"}},\"colorscale\":{\"sequential\":[[0.0,\"#0d0887\"],[0.1111111111111111,\"#46039f\"],[0.2222222222222222,\"#7201a8\"],[0.3333333333333333,\"#9c179e\"],[0.4444444444444444,\"#bd3786\"],[0.5555555555555556,\"#d8576b\"],[0.6666666666666666,\"#ed7953\"],[0.7777777777777778,\"#fb9f3a\"],[0.8888888888888888,\"#fdca26\"],[1.0,\"#f0f921\"]],\"sequentialminus\":[[0.0,\"#0d0887\"],[0.1111111111111111,\"#46039f\"],[0.2222222222222222,\"#7201a8\"],[0.3333333333333333,\"#9c179e\"],[0.4444444444444444,\"#bd3786\"],[0.5555555555555556,\"#d8576b\"],[0.6666666666666666,\"#ed7953\"],[0.7777777777777778,\"#fb9f3a\"],[0.8888888888888888,\"#fdca26\"],[1.0,\"#f0f921\"]],\"diverging\":[[0,\"#8e0152\"],[0.1,\"#c51b7d\"],[0.2,\"#de77ae\"],[0.3,\"#f1b6da\"],[0.4,\"#fde0ef\"],[0.5,\"#f7f7f7\"],[0.6,\"#e6f5d0\"],[0.7,\"#b8e186\"],[0.8,\"#7fbc41\"],[0.9,\"#4d9221\"],[1,\"#276419\"]]},\"xaxis\":{\"gridcolor\":\"white\",\"linecolor\":\"white\",\"ticks\":\"\",\"title\":{\"standoff\":15},\"zerolinecolor\":\"white\",\"automargin\":true,\"zerolinewidth\":2},\"yaxis\":{\"gridcolor\":\"white\",\"linecolor\":\"white\",\"ticks\":\"\",\"title\":{\"standoff\":15},\"zerolinecolor\":\"white\",\"automargin\":true,\"zerolinewidth\":2},\"scene\":{\"xaxis\":{\"backgroundcolor\":\"#E5ECF6\",\"gridcolor\":\"white\",\"linecolor\":\"white\",\"showbackground\":true,\"ticks\":\"\",\"zerolinecolor\":\"white\",\"gridwidth\":2},\"yaxis\":{\"backgroundcolor\":\"#E5ECF6\",\"gridcolor\":\"white\",\"linecolor\":\"white\",\"showbackground\":true,\"ticks\":\"\",\"zerolinecolor\":\"white\",\"gridwidth\":2},\"zaxis\":{\"backgroundcolor\":\"#E5ECF6\",\"gridcolor\":\"white\",\"linecolor\":\"white\",\"showbackground\":true,\"ticks\":\"\",\"zerolinecolor\":\"white\",\"gridwidth\":2}},\"shapedefaults\":{\"line\":{\"color\":\"#2a3f5f\"}},\"annotationdefaults\":{\"arrowcolor\":\"#2a3f5f\",\"arrowhead\":0,\"arrowwidth\":1},\"geo\":{\"bgcolor\":\"white\",\"landcolor\":\"#E5ECF6\",\"subunitcolor\":\"white\",\"showland\":true,\"showlakes\":true,\"lakecolor\":\"white\"},\"title\":{\"x\":0.05},\"mapbox\":{\"style\":\"light\"}}},\"title\":{\"text\":\"Gender Distribution\"}},                        {\"responsive\": true}                    ).then(function(){\n",
       "                            \n",
       "var gd = document.getElementById('d62d62c0-6bb7-4cca-be80-82d510381a23');\n",
       "var x = new MutationObserver(function (mutations, observer) {{\n",
       "        var display = window.getComputedStyle(gd).display;\n",
       "        if (!display || display === 'none') {{\n",
       "            console.log([gd, 'removed!']);\n",
       "            Plotly.purge(gd);\n",
       "            observer.disconnect();\n",
       "        }}\n",
       "}});\n",
       "\n",
       "// Listen for the removal of the full notebook cells\n",
       "var notebookContainer = gd.closest('#notebook-container');\n",
       "if (notebookContainer) {{\n",
       "    x.observe(notebookContainer, {childList: true});\n",
       "}}\n",
       "\n",
       "// Listen for the clearing of the current output cell\n",
       "var outputEl = gd.closest('.output');\n",
       "if (outputEl) {{\n",
       "    x.observe(outputEl, {childList: true});\n",
       "}}\n",
       "\n",
       "                        })                };                });            </script>        </div>"
      ]
     },
     "metadata": {},
     "output_type": "display_data"
    }
   ],
   "source": [
    "ditribution_plot(x=gender_dist.index, y=gender_dist.values, name='Gender Distribution')"
   ]
  },
  {
   "cell_type": "code",
   "execution_count": 194,
   "metadata": {
    "id": "Bo7yzujbc8WF"
   },
   "outputs": [],
   "source": [
    "#create a dataframe containing only those rows for which\n",
    "#age & gender predictions need to be made\n",
    "df_predict = df[pd.isnull(df.age) == True].copy()\n",
    "#remove all incomplete rows from the 'df' dataframe\n",
    "df = df[pd.isnull(df.age) == False].copy()"
   ]
  },
  {
   "cell_type": "code",
   "execution_count": 195,
   "metadata": {
    "colab": {
     "base_uri": "https://localhost:8080/",
     "height": 281
    },
    "id": "PZzzcdmHVdDE",
    "outputId": "9c98d36a-a786-4f27-8589-dbbf91fd16e6"
   },
   "outputs": [
    {
     "data": {
      "image/png": "[encoded data removed]",
      "text/plain": [
       "<Figure size 432x288 with 1 Axes>"
      ]
     },
     "metadata": {
      "needs_background": "light"
     },
     "output_type": "display_data"
    }
   ],
   "source": [
    "index = 100\n",
    "image = np.fromstring(df['pixels'][index], sep = ' ', dtype = np.uint8).reshape((48,48))\n",
    "plt.title(df['age'][index])\n",
    "plt.imshow(image, cmap =\"gray\")\n",
    "plt.show()"
   ]
  },
  {
   "cell_type": "code",
   "execution_count": 196,
   "metadata": {
    "id": "Wjt6P_9G2mD9"
   },
   "outputs": [],
   "source": [
    "class CustomDataGen(tf.keras.utils.Sequence):\n",
    "    \n",
    "    def __init__(self, df,\n",
    "                 batch_size = 32,\n",
    "                 input_size=(48, 48, 3),\n",
    "                 shuffle=True,\n",
    "                 data_augmentation = False):\n",
    "        self.df = df\n",
    "        self.batch_size = batch_size\n",
    "        self.input_size = input_size\n",
    "        self.data_augmentation = data_augmentation\n",
    "        self.var = 1\n",
    "        \n",
    "        self.imageGenerator = ImageDataGenerator(\n",
    "            horizontal_flip = True,\n",
    "            #vertical_flip = True,\n",
    "            fill_mode = 'nearest',\n",
    "            zoom_range = (1, 1.1),\n",
    "            width_shift_range = 0.1,\n",
    "            height_shift_range = 0.1,\n",
    "            rotation_range = 10\n",
    "        )\n",
    "        \n",
    "        self.images = []\n",
    "        self.age_labels = []        \n",
    "        self.gender_labels = []\n",
    "        \n",
    "        for index, row in tqdm(df.iterrows()):\n",
    "            image = np.fromstring(row['pixels'], sep = ' ', dtype = np.uint8).reshape((48,48))\n",
    "            image = cv2.cvtColor(image, cv2.COLOR_GRAY2RGB)\n",
    "            \n",
    "            self.images.append(image)\n",
    "            \n",
    "            self.age_labels.append(row['age'])\n",
    "            self.gender_labels.append(row['gender'])\n",
    "            \n",
    "            \n",
    "        self.images = np.array(self.images)\n",
    "        self.age_labels = np.array(self.age_labels).astype(np.float32)\n",
    "        self.gender_labels = np.array(self.gender_labels).astype(np.float32)\n",
    "        \n",
    "        p = np.random.permutation(len(self.age_labels))\n",
    "        self.images = self.images[p]\n",
    "        self.age_labels = self.age_labels[p]\n",
    "        self.gender_labels = self.gender_labels[p]\n",
    "        \n",
    "        self.n = len(self.df)\n",
    "        \n",
    "    \n",
    "    def __getitem__(self, index):\n",
    "        images = []\n",
    "        \n",
    "        for i in range(self.batch_size):\n",
    "            image = self.images[index * self.batch_size + i]\n",
    "            \n",
    "            if self.data_augmentation:                \n",
    "                image = self.imageGenerator.random_transform(image)\n",
    "                \n",
    "            images.append(image)\n",
    "            \n",
    "        s = slice(self.batch_size * index, (index + 1) * self.batch_size)\n",
    "        return np.array(images), (self.age_labels[s], self.gender_labels[s])\n",
    "    \n",
    "    def __len__(self):\n",
    "            \n",
    "        return self.n // self.batch_size\n",
    "    \n",
    "    def on_epoch_end(self):\n",
    "        \n",
    "        #Random permutation\n",
    "        p = np.random.permutation(len(self.age_labels))\n",
    "        self.images = self.images[p]\n",
    "        self.age_labels = self.age_labels[p]\n",
    "        self.gender_labels = self.gender_labels[p]"
   ]
  },
  {
   "cell_type": "code",
   "execution_count": 197,
   "metadata": {
    "colab": {
     "base_uri": "https://localhost:8080/"
    },
    "id": "Ns3lml4dVpIo",
    "outputId": "8904fc2b-1f19-48e8-a845-bb652d9c6469"
   },
   "outputs": [
    {
     "name": "stderr",
     "output_type": "stream",
     "text": [
      "7573it [00:02, 3034.13it/s]\n",
      "427it [00:00, 3079.73it/s]\n"
     ]
    }
   ],
   "source": [
    "#Divide into train and validation\n",
    "msk = np.random.rand(len(df)) < 0.95\n",
    "train = df[msk]\n",
    "val = df[~msk]\n",
    "\n",
    "train_dataset = CustomDataGen(train, data_augmentation = True)\n",
    "val_dataset = CustomDataGen(val)"
   ]
  },
  {
   "cell_type": "code",
   "execution_count": 198,
   "metadata": {
    "id": "CgNFhiWmDOIe"
   },
   "outputs": [],
   "source": [
    "def build_model(input_shape = (48,48,3)):\n",
    "    \n",
    "    i = tf.keras.layers.Input(input_shape, dtype = tf.uint8)\n",
    "    x = tf.cast(i, tf.float32)\n",
    "    x = tf.keras.applications.vgg16.preprocess_input(x)\n",
    "    \n",
    "    backbone = tf.keras.applications.vgg16.VGG16(\n",
    "                include_top=False, weights='imagenet',\n",
    "                input_tensor=x\n",
    "            )\n",
    "    output_layer = backbone.get_layer(\"block5_conv3\").output    \n",
    "    \n",
    "    \n",
    "    def build_age_branch(input_tensor): \n",
    "        x = tf.keras.layers.Dense(1024, activation = LeakyReLU(alpha=0.3))(input_tensor)\n",
    "        x = tf.keras.layers.BatchNormalization()(x)\n",
    "        x = tf.keras.layers.Dropout(0.2)(x)\n",
    "        x = tf.keras.layers.Dense(1, activation = None, name = 'age_output')(x)\n",
    "    \n",
    "        return x\n",
    "    \n",
    "    def build_gender_branch(input_tensor): \n",
    "        x = tf.keras.layers.Dense(500, activation = LeakyReLU(alpha=0.3))(input_tensor)\n",
    "        x = tf.keras.layers.BatchNormalization()(x)\n",
    "        x = tf.keras.layers.Dropout(0.2)(x)\n",
    "        x = tf.keras.layers.Dense(1, activation = 'sigmoid', name = 'gender_output')(x)\n",
    "    \n",
    "        return x\n",
    "    \n",
    "    x = tf.keras.layers.Flatten()(output_layer)       \n",
    "    output_age = build_age_branch(x)\n",
    "    output_gender = build_gender_branch(x)\n",
    "    model = tf.keras.Model(i, [output_age, output_gender])\n",
    "    \n",
    "    return model"
   ]
  },
  {
   "cell_type": "code",
   "execution_count": 199,
   "metadata": {
    "colab": {
     "base_uri": "https://localhost:8080/"
    },
    "id": "jgXsNJV7V2iw",
    "outputId": "d2ecfdc2-bf36-4a9e-9ce4-74c0e69a1c62"
   },
   "outputs": [
    {
     "name": "stdout",
     "output_type": "stream",
     "text": [
      "Model: \"model_3\"\n",
      "__________________________________________________________________________________________________\n",
      " Layer (type)                   Output Shape         Param #     Connected to                     \n",
      "==================================================================================================\n",
      " input_9 (InputLayer)           [(None, 48, 48, 3)]  0           []                               \n",
      "                                                                                                  \n",
      " tf.cast_8 (TFOpLambda)         (None, 48, 48, 3)    0           ['input_9[0][0]']                \n",
      "                                                                                                  \n",
      " tf.__operators__.getitem_8 (Sl  (None, 48, 48, 3)   0           ['tf.cast_8[0][0]']              \n",
      " icingOpLambda)                                                                                   \n",
      "                                                                                                  \n",
      " tf.nn.bias_add_8 (TFOpLambda)  (None, 48, 48, 3)    0           ['tf.__operators__.getitem_8[0][0\n",
      "                                                                 ]']                              \n",
      "                                                                                                  \n",
      " block1_conv1 (Conv2D)          (None, 48, 48, 64)   1792        ['tf.nn.bias_add_8[0][0]']       \n",
      "                                                                                                  \n",
      " block1_conv2 (Conv2D)          (None, 48, 48, 64)   36928       ['block1_conv1[0][0]']           \n",
      "                                                                                                  \n",
      " block1_pool (MaxPooling2D)     (None, 24, 24, 64)   0           ['block1_conv2[0][0]']           \n",
      "                                                                                                  \n",
      " block2_conv1 (Conv2D)          (None, 24, 24, 128)  73856       ['block1_pool[0][0]']            \n",
      "                                                                                                  \n",
      " block2_conv2 (Conv2D)          (None, 24, 24, 128)  147584      ['block2_conv1[0][0]']           \n",
      "                                                                                                  \n",
      " block2_pool (MaxPooling2D)     (None, 12, 12, 128)  0           ['block2_conv2[0][0]']           \n",
      "                                                                                                  \n",
      " block3_conv1 (Conv2D)          (None, 12, 12, 256)  295168      ['block2_pool[0][0]']            \n",
      "                                                                                                  \n",
      " block3_conv2 (Conv2D)          (None, 12, 12, 256)  590080      ['block3_conv1[0][0]']           \n",
      "                                                                                                  \n",
      " block3_conv3 (Conv2D)          (None, 12, 12, 256)  590080      ['block3_conv2[0][0]']           \n",
      "                                                                                                  \n",
      " block3_pool (MaxPooling2D)     (None, 6, 6, 256)    0           ['block3_conv3[0][0]']           \n",
      "                                                                                                  \n",
      " block4_conv1 (Conv2D)          (None, 6, 6, 512)    1180160     ['block3_pool[0][0]']            \n",
      "                                                                                                  \n",
      " block4_conv2 (Conv2D)          (None, 6, 6, 512)    2359808     ['block4_conv1[0][0]']           \n",
      "                                                                                                  \n",
      " block4_conv3 (Conv2D)          (None, 6, 6, 512)    2359808     ['block4_conv2[0][0]']           \n",
      "                                                                                                  \n",
      " block4_pool (MaxPooling2D)     (None, 3, 3, 512)    0           ['block4_conv3[0][0]']           \n",
      "                                                                                                  \n",
      " block5_conv1 (Conv2D)          (None, 3, 3, 512)    2359808     ['block4_pool[0][0]']            \n",
      "                                                                                                  \n",
      " block5_conv2 (Conv2D)          (None, 3, 3, 512)    2359808     ['block5_conv1[0][0]']           \n",
      "                                                                                                  \n",
      " block5_conv3 (Conv2D)          (None, 3, 3, 512)    2359808     ['block5_conv2[0][0]']           \n",
      "                                                                                                  \n",
      " flatten_3 (Flatten)            (None, 4608)         0           ['block5_conv3[0][0]']           \n",
      "                                                                                                  \n",
      " dense_6 (Dense)                (None, 1024)         4719616     ['flatten_3[0][0]']              \n",
      "                                                                                                  \n",
      " dense_7 (Dense)                (None, 500)          2304500     ['flatten_3[0][0]']              \n",
      "                                                                                                  \n",
      " batch_normalization_6 (BatchNo  (None, 1024)        4096        ['dense_6[0][0]']                \n",
      " rmalization)                                                                                     \n",
      "                                                                                                  \n",
      " batch_normalization_7 (BatchNo  (None, 500)         2000        ['dense_7[0][0]']                \n",
      " rmalization)                                                                                     \n",
      "                                                                                                  \n",
      " dropout_6 (Dropout)            (None, 1024)         0           ['batch_normalization_6[0][0]']  \n",
      "                                                                                                  \n",
      " dropout_7 (Dropout)            (None, 500)          0           ['batch_normalization_7[0][0]']  \n",
      "                                                                                                  \n",
      " age_output (Dense)             (None, 1)            1025        ['dropout_6[0][0]']              \n",
      "                                                                                                  \n",
      " gender_output (Dense)          (None, 1)            501         ['dropout_7[0][0]']              \n",
      "                                                                                                  \n",
      "==================================================================================================\n",
      "Total params: 21,746,426\n",
      "Trainable params: 21,743,378\n",
      "Non-trainable params: 3,048\n",
      "__________________________________________________________________________________________________\n"
     ]
    }
   ],
   "source": [
    "model = build_model()\n",
    "model.summary()"
   ]
  },
  {
   "cell_type": "code",
   "execution_count": 200,
   "metadata": {
    "colab": {
     "base_uri": "https://localhost:8080/",
     "height": 435
    },
    "id": "kvlQ4THNV2mB",
    "outputId": "867cdf56-2a8a-4875-932e-a48f6b61f535"
   },
   "outputs": [
    {
     "name": "stdout",
     "output_type": "stream",
     "text": [
      "Epoch 1/70\n",
      "236/236 [==============================] - 223s 938ms/step - loss: 1.5199 - age_output_loss: 1289.0310 - gender_output_loss: 0.4617 - age_output_mean_absolute_error: 33.0165 - gender_output_accuracy: 0.7965 - val_loss: 1.6521 - val_age_output_loss: 960.0353 - val_gender_output_loss: 1.3841 - val_age_output_mean_absolute_error: 28.2615 - val_gender_output_accuracy: 0.6779 - lr: 1.0000e-04\n",
      "Epoch 2/70\n",
      "236/236 [==============================] - 254s 1s/step - loss: 1.3281 - age_output_loss: 1152.2263 - gender_output_loss: 0.3518 - age_output_mean_absolute_error: 31.8763 - gender_output_accuracy: 0.8595 - val_loss: 0.8344 - val_age_output_loss: 694.4784 - val_gender_output_loss: 0.2799 - val_age_output_mean_absolute_error: 24.6546 - val_gender_output_accuracy: 0.8750 - lr: 1.0000e-04\n",
      "Epoch 3/70\n",
      "236/236 [==============================] - 260s 1s/step - loss: 1.1842 - age_output_loss: 1034.4163 - gender_output_loss: 0.2996 - age_output_mean_absolute_error: 30.1636 - gender_output_accuracy: 0.8783 - val_loss: 1.5944 - val_age_output_loss: 1389.1587 - val_gender_output_loss: 0.4104 - val_age_output_mean_absolute_error: 36.1819 - val_gender_output_accuracy: 0.8389 - lr: 1.0000e-04\n",
      "Epoch 4/70\n",
      "236/236 [==============================] - 269s 1s/step - loss: 1.0121 - age_output_loss: 875.5749 - gender_output_loss: 0.2730 - age_output_mean_absolute_error: 27.6750 - gender_output_accuracy: 0.8822 - val_loss: 0.5819 - val_age_output_loss: 387.5702 - val_gender_output_loss: 0.3886 - val_age_output_mean_absolute_error: 16.7693 - val_gender_output_accuracy: 0.8582 - lr: 1.0000e-04\n",
      "Epoch 5/70\n",
      "236/236 [==============================] - 274s 1s/step - loss: 0.8128 - age_output_loss: 682.9863 - gender_output_loss: 0.2596 - age_output_mean_absolute_error: 24.1099 - gender_output_accuracy: 0.8929 - val_loss: 0.8754 - val_age_output_loss: 726.0363 - val_gender_output_loss: 0.2988 - val_age_output_mean_absolute_error: 25.1670 - val_gender_output_accuracy: 0.8702 - lr: 1.0000e-04\n",
      "Epoch 6/70\n",
      "236/236 [==============================] - 275s 1s/step - loss: 0.5979 - age_output_loss: 477.7108 - gender_output_loss: 0.2404 - age_output_mean_absolute_error: 19.6600 - gender_output_accuracy: 0.9035 - val_loss: 0.3766 - val_age_output_loss: 235.2721 - val_gender_output_loss: 0.2827 - val_age_output_mean_absolute_error: 13.5583 - val_gender_output_accuracy: 0.8798 - lr: 1.0000e-04\n",
      "Epoch 7/70\n",
      "236/236 [==============================] - 278s 1s/step - loss: 0.4268 - age_output_loss: 312.8026 - gender_output_loss: 0.2279 - age_output_mean_absolute_error: 15.1675 - gender_output_accuracy: 0.9089 - val_loss: 0.3215 - val_age_output_loss: 187.2409 - val_gender_output_loss: 0.2686 - val_age_output_mean_absolute_error: 11.6692 - val_gender_output_accuracy: 0.8870 - lr: 1.0000e-04\n",
      "Epoch 8/70\n",
      "236/236 [==============================] - 280s 1s/step - loss: 0.3046 - age_output_loss: 193.0220 - gender_output_loss: 0.2231 - age_output_mean_absolute_error: 11.2308 - gender_output_accuracy: 0.9101 - val_loss: 0.2643 - val_age_output_loss: 128.9198 - val_gender_output_loss: 0.2708 - val_age_output_mean_absolute_error: 8.5935 - val_gender_output_accuracy: 0.9014 - lr: 1.0000e-04\n",
      "Epoch 9/70\n",
      "236/236 [==============================] - 280s 1s/step - loss: 0.2329 - age_output_loss: 129.1473 - gender_output_loss: 0.2075 - age_output_mean_absolute_error: 8.8086 - gender_output_accuracy: 0.9162 - val_loss: 0.2017 - val_age_output_loss: 81.7430 - val_gender_output_loss: 0.2399 - val_age_output_mean_absolute_error: 6.8556 - val_gender_output_accuracy: 0.9038 - lr: 1.0000e-04\n",
      "Epoch 10/70\n",
      "236/236 [==============================] - 283s 1s/step - loss: 0.1952 - age_output_loss: 99.0064 - gender_output_loss: 0.1924 - age_output_mean_absolute_error: 7.5621 - gender_output_accuracy: 0.9277 - val_loss: 0.2819 - val_age_output_loss: 168.9694 - val_gender_output_loss: 0.2258 - val_age_output_mean_absolute_error: 10.3567 - val_gender_output_accuracy: 0.8990 - lr: 1.0000e-04\n",
      "Epoch 11/70\n",
      "236/236 [==============================] - ETA: 0s - loss: 0.1789 - age_output_loss: 87.4822 - gender_output_loss: 0.1828 - age_output_mean_absolute_error: 7.1378 - gender_output_accuracy: 0.9276\n",
      "Epoch 11: ReduceLROnPlateau reducing learning rate to 2.9999999242136255e-05.\n",
      "236/236 [==============================] - 284s 1s/step - loss: 0.1789 - age_output_loss: 87.4822 - gender_output_loss: 0.1828 - age_output_mean_absolute_error: 7.1378 - gender_output_accuracy: 0.9276 - val_loss: 0.3427 - val_age_output_loss: 92.8070 - val_gender_output_loss: 0.4999 - val_age_output_mean_absolute_error: 7.3438 - val_gender_output_accuracy: 0.8341 - lr: 1.0000e-04\n",
      "Epoch 12/70\n",
      "236/236 [==============================] - 285s 1s/step - loss: 0.1483 - age_output_loss: 73.5874 - gender_output_loss: 0.1494 - age_output_mean_absolute_error: 6.5251 - gender_output_accuracy: 0.9456 - val_loss: 0.1992 - val_age_output_loss: 74.5430 - val_gender_output_loss: 0.2493 - val_age_output_mean_absolute_error: 6.5509 - val_gender_output_accuracy: 0.9159 - lr: 3.0000e-05\n",
      "Epoch 13/70\n",
      "236/236 [==============================] - 284s 1s/step - loss: 0.1376 - age_output_loss: 68.1585 - gender_output_loss: 0.1390 - age_output_mean_absolute_error: 6.3055 - gender_output_accuracy: 0.9493 - val_loss: 0.1898 - val_age_output_loss: 62.6686 - val_gender_output_loss: 0.2543 - val_age_output_mean_absolute_error: 5.8883 - val_gender_output_accuracy: 0.8990 - lr: 3.0000e-05\n",
      "Epoch 14/70\n",
      "236/236 [==============================] - 280s 1s/step - loss: 0.1310 - age_output_loss: 67.6187 - gender_output_loss: 0.1268 - age_output_mean_absolute_error: 6.3209 - gender_output_accuracy: 0.9537 - val_loss: 0.2118 - val_age_output_loss: 66.7412 - val_gender_output_loss: 0.2901 - val_age_output_mean_absolute_error: 5.9796 - val_gender_output_accuracy: 0.9062 - lr: 3.0000e-05\n",
      "Epoch 15/70\n",
      "236/236 [==============================] - ETA: 0s - loss: 0.1284 - age_output_loss: 65.6988 - gender_output_loss: 0.1254 - age_output_mean_absolute_error: 6.2159 - gender_output_accuracy: 0.9522\n",
      "Epoch 15: ReduceLROnPlateau reducing learning rate to 8.999999772640877e-06.\n",
      "236/236 [==============================] - 282s 1s/step - loss: 0.1284 - age_output_loss: 65.6988 - gender_output_loss: 0.1254 - age_output_mean_absolute_error: 6.2159 - gender_output_accuracy: 0.9522 - val_loss: 0.1974 - val_age_output_loss: 64.5409 - val_gender_output_loss: 0.2657 - val_age_output_mean_absolute_error: 5.8858 - val_gender_output_accuracy: 0.8966 - lr: 3.0000e-05\n",
      "Epoch 16/70\n",
      "236/236 [==============================] - 284s 1s/step - loss: 0.1093 - age_output_loss: 59.2806 - gender_output_loss: 0.1000 - age_output_mean_absolute_error: 5.9385 - gender_output_accuracy: 0.9645 - val_loss: 0.1982 - val_age_output_loss: 63.4988 - val_gender_output_loss: 0.2693 - val_age_output_mean_absolute_error: 5.9263 - val_gender_output_accuracy: 0.9014 - lr: 9.0000e-06\n",
      "Epoch 17/70\n",
      "236/236 [==============================] - ETA: 0s - loss: 0.1039 - age_output_loss: 59.2033 - gender_output_loss: 0.0893 - age_output_mean_absolute_error: 5.9728 - gender_output_accuracy: 0.9666\n",
      "Epoch 17: ReduceLROnPlateau reducing learning rate to 2.6999998226528985e-06.\n",
      "236/236 [==============================] - 284s 1s/step - loss: 0.1039 - age_output_loss: 59.2033 - gender_output_loss: 0.0893 - age_output_mean_absolute_error: 5.9728 - gender_output_accuracy: 0.9666 - val_loss: 0.2086 - val_age_output_loss: 72.0616 - val_gender_output_loss: 0.2730 - val_age_output_mean_absolute_error: 6.1793 - val_gender_output_accuracy: 0.9062 - lr: 9.0000e-06\n",
      "Epoch 18/70\n",
      "236/236 [==============================] - 284s 1s/step - loss: 0.0972 - age_output_loss: 56.8458 - gender_output_loss: 0.0806 - age_output_mean_absolute_error: 5.8135 - gender_output_accuracy: 0.9736 - val_loss: 0.2127 - val_age_output_loss: 70.9419 - val_gender_output_loss: 0.2834 - val_age_output_mean_absolute_error: 6.1865 - val_gender_output_accuracy: 0.9062 - lr: 2.7000e-06\n",
      "Epoch 18: early stopping\n"
     ]
    },
    {
     "data": {
      "image/png": "[encoded data removed]",
      "text/plain": [
       "<Figure size 432x288 with 1 Axes>"
      ]
     },
     "metadata": {
      "needs_background": "light"
     },
     "output_type": "display_data"
    }
   ],
   "source": [
    "EPOCHS = 70\n",
    "BATCH_SIZE = 32\n",
    "model.compile(tf.keras.optimizers.Adam(learning_rate=1e-4), loss = ['mse','binary_crossentropy'], loss_weights = [0.001,0.5], \n",
    "              metrics = {'age_output': 'mean_absolute_error', 'gender_output': 'accuracy'})\n",
    "\n",
    "plateau = tf.keras.callbacks.ReduceLROnPlateau(\n",
    "      monitor='val_loss', factor=0.3, patience=2, verbose = 1\n",
    ")\n",
    "es = tf.keras.callbacks.EarlyStopping(monitor='val_loss', mode='min', verbose=1,\n",
    "                                      patience=5)  # Early stopping (stops training when validation doesn't improve for {patience} epochs)\n",
    "save_best = tf.keras.callbacks.ModelCheckpoint('weights.h5', monitor='val_loss', save_best_only=True,\n",
    "                                            mode='min', save_weights_only = True)  # Saves the best version of the model to disk (as measured on the validation data set)\n",
    "remote_monitor_callback = tf.keras.callbacks.RemoteMonitor(\n",
    "    root='https://dweet.io', path='/dweet/for/multitask',\n",
    "    send_as_json=False, field = 'data'\n",
    ")     \n",
    "\n",
    "history = model.fit(train_dataset,\n",
    "            epochs=EPOCHS,\n",
    "            batch_size = BATCH_SIZE,\n",
    "            validation_data=val_dataset,\n",
    "            callbacks = [es, save_best, plateau, remote_monitor_callback])\n",
    "\n",
    "plt.plot(history.history['loss'])\n",
    "plt.plot(history.history['val_loss'])\n",
    "plt.title('model loss')\n",
    "plt.ylabel('loss')\n",
    "plt.xlabel('epoch')\n",
    "plt.legend(['train', 'validation'], loc='upper left')\n",
    "plt.yscale('log')\n",
    "plt.show()"
   ]
  },
  {
   "cell_type": "code",
   "execution_count": 201,
   "metadata": {
    "colab": {
     "base_uri": "https://localhost:8080/"
    },
    "id": "iAu6VEMmV2oJ",
    "outputId": "1141cb4b-4125-4ee8-f175-fbe4810ab956"
   },
   "outputs": [
    {
     "name": "stdout",
     "output_type": "stream",
     "text": [
      "13/13 [==============================] - 3s 221ms/step - loss: 0.2122 - age_output_loss: 70.8318 - gender_output_loss: 0.2828 - age_output_mean_absolute_error: 6.1777 - gender_output_accuracy: 0.9062\n"
     ]
    },
    {
     "data": {
      "text/plain": [
       "[0.2122274488210678,\n",
       " 70.83180236816406,\n",
       " 0.2827913165092468,\n",
       " 6.17769193649292,\n",
       " 0.90625]"
      ]
     },
     "execution_count": 201,
     "metadata": {},
     "output_type": "execute_result"
    }
   ],
   "source": [
    "model.evaluate(val_dataset)"
   ]
  },
  {
   "cell_type": "code",
   "execution_count": 222,
   "metadata": {
    "colab": {
     "base_uri": "https://localhost:8080/",
     "height": 403
    },
    "id": "s-tM__AgV-Ly",
    "outputId": "e0ad5f17-7a13-4ba0-a06a-881c729a2133"
   },
   "outputs": [
    {
     "name": "stderr",
     "output_type": "stream",
     "text": [
      "C:\\Users\\tejaa\\AppData\\Local\\Temp/ipykernel_12532/2509835192.py:7: DeprecationWarning:\n",
      "\n",
      "`np.int` is a deprecated alias for the builtin `int`. To silence this warning, use `int` by itself. Doing this will not modify any behavior and is safe. When replacing `np.int`, you may wish to use e.g. `np.int64` or `np.int32` to specify the precision. If you wish to review your current use, check the release note link for additional information.\n",
      "Deprecated in NumPy 1.20; for more details and guidance: https://numpy.org/devdocs/release/1.20.0-notes.html#deprecations\n",
      "\n"
     ]
    },
    {
     "data": {
      "image/png": "[encoded data removed]",
      "text/plain": [
       "<Figure size 432x288 with 1 Axes>"
      ]
     },
     "metadata": {
      "needs_background": "light"
     },
     "output_type": "display_data"
    }
   ],
   "source": [
    "images, labels = val_dataset[1]\n",
    "index = 0\n",
    "\n",
    "p = model.predict(images)\n",
    "\n",
    "gender_predictions = tf.where(p[1] > 0.5, 1, 0)\n",
    "plt.title(f'Prediction: {p[0][index].astype(np.int)[0]} years, {name_genders[gender_predictions[index][0]]}\\n'+\n",
    "         f'Real: {int(labels[0][index])} years, {name_genders[int(labels[1][index])]}')\n",
    "plt.imshow(images[index])\n",
    "plt.show()"
   ]
  },
  {
   "cell_type": "code",
   "execution_count": 219,
   "metadata": {
    "colab": {
     "base_uri": "https://localhost:8080/",
     "height": 206
    },
    "id": "m26Km127eZk4",
    "outputId": "25a22209-da2a-47ef-ff1c-598f9c163401"
   },
   "outputs": [
    {
     "data": {
      "text/html": [
       "<div>\n",
       "<style scoped>\n",
       "    .dataframe tbody tr th:only-of-type {\n",
       "        vertical-align: middle;\n",
       "    }\n",
       "\n",
       "    .dataframe tbody tr th {\n",
       "        vertical-align: top;\n",
       "    }\n",
       "\n",
       "    .dataframe thead th {\n",
       "        text-align: right;\n",
       "    }\n",
       "</style>\n",
       "<table border=\"1\" class=\"dataframe\">\n",
       "  <thead>\n",
       "    <tr style=\"text-align: right;\">\n",
       "      <th></th>\n",
       "      <th>id</th>\n",
       "      <th>age</th>\n",
       "      <th>gender</th>\n",
       "      <th>pixels</th>\n",
       "    </tr>\n",
       "  </thead>\n",
       "  <tbody>\n",
       "    <tr>\n",
       "      <th>8000</th>\n",
       "      <td>8001</td>\n",
       "      <td>NaN</td>\n",
       "      <td>NaN</td>\n",
       "      <td>107 11 51 120 10 22 31 38 43 49 58 68 77 92 11...</td>\n",
       "    </tr>\n",
       "    <tr>\n",
       "      <th>8001</th>\n",
       "      <td>8002</td>\n",
       "      <td>NaN</td>\n",
       "      <td>NaN</td>\n",
       "      <td>54 66 80 130 157 154 151 152 154 152 139 135 1...</td>\n",
       "    </tr>\n",
       "    <tr>\n",
       "      <th>8002</th>\n",
       "      <td>8003</td>\n",
       "      <td>NaN</td>\n",
       "      <td>NaN</td>\n",
       "      <td>50 67 70 112 157 218 228 222 212 201 211 203 1...</td>\n",
       "    </tr>\n",
       "    <tr>\n",
       "      <th>8003</th>\n",
       "      <td>8004</td>\n",
       "      <td>NaN</td>\n",
       "      <td>NaN</td>\n",
       "      <td>238 247 249 236 80 31 20 26 32 73 96 112 116 1...</td>\n",
       "    </tr>\n",
       "    <tr>\n",
       "      <th>8004</th>\n",
       "      <td>8005</td>\n",
       "      <td>NaN</td>\n",
       "      <td>NaN</td>\n",
       "      <td>36 37 41 40 37 37 40 44 52 55 50 67 78 91 100 ...</td>\n",
       "    </tr>\n",
       "  </tbody>\n",
       "</table>\n",
       "</div>"
      ],
      "text/plain": [
       "        id  age  gender                                             pixels\n",
       "8000  8001  NaN     NaN  107 11 51 120 10 22 31 38 43 49 58 68 77 92 11...\n",
       "8001  8002  NaN     NaN  54 66 80 130 157 154 151 152 154 152 139 135 1...\n",
       "8002  8003  NaN     NaN  50 67 70 112 157 218 228 222 212 201 211 203 1...\n",
       "8003  8004  NaN     NaN  238 247 249 236 80 31 20 26 32 73 96 112 116 1...\n",
       "8004  8005  NaN     NaN  36 37 41 40 37 37 40 44 52 55 50 67 78 91 100 ..."
      ]
     },
     "execution_count": 219,
     "metadata": {},
     "output_type": "execute_result"
    }
   ],
   "source": [
    "df_predict.head()"
   ]
  },
  {
   "cell_type": "code",
   "execution_count": 220,
   "metadata": {},
   "outputs": [
    {
     "name": "stderr",
     "output_type": "stream",
     "text": [
      "2000it [00:00, 2846.74it/s]\n"
     ]
    }
   ],
   "source": [
    "val_1 = CustomDataGen(df_predict)"
   ]
  },
  {
   "cell_type": "code",
   "execution_count": 221,
   "metadata": {
    "colab": {
     "base_uri": "https://localhost:8080/",
     "height": 799
    },
    "id": "1GJ-xvFEgiyd",
    "outputId": "d70ed4ec-ba02-4e05-d2fc-49fc695ce422"
   },
   "outputs": [
    {
     "data": {
      "text/plain": [
       "2000"
      ]
     },
     "execution_count": 221,
     "metadata": {},
     "output_type": "execute_result"
    }
   ],
   "source": [
    "len(val_1.images)"
   ]
  },
  {
   "cell_type": "code",
   "execution_count": 214,
   "metadata": {},
   "outputs": [],
   "source": [
    "p = model.predict(val_1)"
   ]
  },
  {
   "cell_type": "code",
   "execution_count": 225,
   "metadata": {},
   "outputs": [],
   "source": [
    "\n",
    "images = val_1.images\n"
   ]
  },
  {
   "cell_type": "code",
   "execution_count": 226,
   "metadata": {},
   "outputs": [],
   "source": [
    "p = model.predict(images)"
   ]
  },
  {
   "cell_type": "code",
   "execution_count": 229,
   "metadata": {},
   "outputs": [
    {
     "data": {
      "text/plain": [
       "array([[32.005707],\n",
       "       [83.855255],\n",
       "       [28.085585],\n",
       "       ...,\n",
       "       [18.305197],\n",
       "       [45.43101 ],\n",
       "       [51.583984]], dtype=float32)"
      ]
     },
     "execution_count": 229,
     "metadata": {},
     "output_type": "execute_result"
    }
   ],
   "source": [
    "p[0]"
   ]
  },
  {
   "cell_type": "code",
   "execution_count": 259,
   "metadata": {},
   "outputs": [],
   "source": [
    " df_final2 = pd. DataFrame(p[0],columns=['age'])"
   ]
  },
  {
   "cell_type": "code",
   "execution_count": 260,
   "metadata": {},
   "outputs": [
    {
     "data": {
      "text/html": [
       "<div>\n",
       "<style scoped>\n",
       "    .dataframe tbody tr th:only-of-type {\n",
       "        vertical-align: middle;\n",
       "    }\n",
       "\n",
       "    .dataframe tbody tr th {\n",
       "        vertical-align: top;\n",
       "    }\n",
       "\n",
       "    .dataframe thead th {\n",
       "        text-align: right;\n",
       "    }\n",
       "</style>\n",
       "<table border=\"1\" class=\"dataframe\">\n",
       "  <thead>\n",
       "    <tr style=\"text-align: right;\">\n",
       "      <th></th>\n",
       "      <th>age</th>\n",
       "    </tr>\n",
       "  </thead>\n",
       "  <tbody>\n",
       "    <tr>\n",
       "      <th>0</th>\n",
       "      <td>32.005707</td>\n",
       "    </tr>\n",
       "    <tr>\n",
       "      <th>1</th>\n",
       "      <td>83.855255</td>\n",
       "    </tr>\n",
       "    <tr>\n",
       "      <th>2</th>\n",
       "      <td>28.085585</td>\n",
       "    </tr>\n",
       "    <tr>\n",
       "      <th>3</th>\n",
       "      <td>36.078434</td>\n",
       "    </tr>\n",
       "    <tr>\n",
       "      <th>4</th>\n",
       "      <td>25.208870</td>\n",
       "    </tr>\n",
       "  </tbody>\n",
       "</table>\n",
       "</div>"
      ],
      "text/plain": [
       "         age\n",
       "0  32.005707\n",
       "1  83.855255\n",
       "2  28.085585\n",
       "3  36.078434\n",
       "4  25.208870"
      ]
     },
     "execution_count": 260,
     "metadata": {},
     "output_type": "execute_result"
    }
   ],
   "source": [
    "df_final2.head()"
   ]
  },
  {
   "cell_type": "code",
   "execution_count": 261,
   "metadata": {},
   "outputs": [],
   "source": [
    " df_final3 = pd. DataFrame(p[1],columns=['gender'])"
   ]
  },
  {
   "cell_type": "code",
   "execution_count": 262,
   "metadata": {},
   "outputs": [
    {
     "data": {
      "text/html": [
       "<div>\n",
       "<style scoped>\n",
       "    .dataframe tbody tr th:only-of-type {\n",
       "        vertical-align: middle;\n",
       "    }\n",
       "\n",
       "    .dataframe tbody tr th {\n",
       "        vertical-align: top;\n",
       "    }\n",
       "\n",
       "    .dataframe thead th {\n",
       "        text-align: right;\n",
       "    }\n",
       "</style>\n",
       "<table border=\"1\" class=\"dataframe\">\n",
       "  <thead>\n",
       "    <tr style=\"text-align: right;\">\n",
       "      <th></th>\n",
       "      <th>gender</th>\n",
       "    </tr>\n",
       "  </thead>\n",
       "  <tbody>\n",
       "    <tr>\n",
       "      <th>0</th>\n",
       "      <td>0.020467</td>\n",
       "    </tr>\n",
       "    <tr>\n",
       "      <th>1</th>\n",
       "      <td>0.999635</td>\n",
       "    </tr>\n",
       "    <tr>\n",
       "      <th>2</th>\n",
       "      <td>0.001718</td>\n",
       "    </tr>\n",
       "    <tr>\n",
       "      <th>3</th>\n",
       "      <td>0.008299</td>\n",
       "    </tr>\n",
       "    <tr>\n",
       "      <th>4</th>\n",
       "      <td>0.998177</td>\n",
       "    </tr>\n",
       "  </tbody>\n",
       "</table>\n",
       "</div>"
      ],
      "text/plain": [
       "     gender\n",
       "0  0.020467\n",
       "1  0.999635\n",
       "2  0.001718\n",
       "3  0.008299\n",
       "4  0.998177"
      ]
     },
     "execution_count": 262,
     "metadata": {},
     "output_type": "execute_result"
    }
   ],
   "source": [
    " df_final3.head()"
   ]
  },
  {
   "cell_type": "code",
   "execution_count": 256,
   "metadata": {},
   "outputs": [
    {
     "data": {
      "text/plain": [
       "array([[0.02046719],\n",
       "       [0.99963486],\n",
       "       [0.0017181 ],\n",
       "       ...,\n",
       "       [0.05392474],\n",
       "       [0.99859595],\n",
       "       [0.99533373]], dtype=float32)"
      ]
     },
     "execution_count": 256,
     "metadata": {},
     "output_type": "execute_result"
    }
   ],
   "source": [
    "p[1]"
   ]
  },
  {
   "cell_type": "code",
   "execution_count": 263,
   "metadata": {},
   "outputs": [],
   "source": [
    "df_final2.to_csv('age.csv')\n",
    "df_final3.to_csv('gender.csv')"
   ]
  },
  {
   "cell_type": "code",
   "execution_count": 267,
   "metadata": {},
   "outputs": [
    {
     "data": {
      "text/html": [
       "<div>\n",
       "<style scoped>\n",
       "    .dataframe tbody tr th:only-of-type {\n",
       "        vertical-align: middle;\n",
       "    }\n",
       "\n",
       "    .dataframe tbody tr th {\n",
       "        vertical-align: top;\n",
       "    }\n",
       "\n",
       "    .dataframe thead th {\n",
       "        text-align: right;\n",
       "    }\n",
       "</style>\n",
       "<table border=\"1\" class=\"dataframe\">\n",
       "  <thead>\n",
       "    <tr style=\"text-align: right;\">\n",
       "      <th></th>\n",
       "      <th>id</th>\n",
       "      <th>age</th>\n",
       "      <th>gender</th>\n",
       "      <th>pixels</th>\n",
       "    </tr>\n",
       "  </thead>\n",
       "  <tbody>\n",
       "    <tr>\n",
       "      <th>8000</th>\n",
       "      <td>8001</td>\n",
       "      <td>NaN</td>\n",
       "      <td>NaN</td>\n",
       "      <td>107 11 51 120 10 22 31 38 43 49 58 68 77 92 11...</td>\n",
       "    </tr>\n",
       "    <tr>\n",
       "      <th>8001</th>\n",
       "      <td>8002</td>\n",
       "      <td>NaN</td>\n",
       "      <td>NaN</td>\n",
       "      <td>54 66 80 130 157 154 151 152 154 152 139 135 1...</td>\n",
       "    </tr>\n",
       "    <tr>\n",
       "      <th>8002</th>\n",
       "      <td>8003</td>\n",
       "      <td>NaN</td>\n",
       "      <td>NaN</td>\n",
       "      <td>50 67 70 112 157 218 228 222 212 201 211 203 1...</td>\n",
       "    </tr>\n",
       "    <tr>\n",
       "      <th>8003</th>\n",
       "      <td>8004</td>\n",
       "      <td>NaN</td>\n",
       "      <td>NaN</td>\n",
       "      <td>238 247 249 236 80 31 20 26 32 73 96 112 116 1...</td>\n",
       "    </tr>\n",
       "    <tr>\n",
       "      <th>8004</th>\n",
       "      <td>8005</td>\n",
       "      <td>NaN</td>\n",
       "      <td>NaN</td>\n",
       "      <td>36 37 41 40 37 37 40 44 52 55 50 67 78 91 100 ...</td>\n",
       "    </tr>\n",
       "  </tbody>\n",
       "</table>\n",
       "</div>"
      ],
      "text/plain": [
       "        id  age  gender                                             pixels\n",
       "8000  8001  NaN     NaN  107 11 51 120 10 22 31 38 43 49 58 68 77 92 11...\n",
       "8001  8002  NaN     NaN  54 66 80 130 157 154 151 152 154 152 139 135 1...\n",
       "8002  8003  NaN     NaN  50 67 70 112 157 218 228 222 212 201 211 203 1...\n",
       "8003  8004  NaN     NaN  238 247 249 236 80 31 20 26 32 73 96 112 116 1...\n",
       "8004  8005  NaN     NaN  36 37 41 40 37 37 40 44 52 55 50 67 78 91 100 ..."
      ]
     },
     "execution_count": 267,
     "metadata": {},
     "output_type": "execute_result"
    }
   ],
   "source": [
    "df_predict.head()"
   ]
  },
  {
   "cell_type": "markdown",
   "metadata": {
    "id": "G4suq9Ng3BY6"
   },
   "source": [
    "## End of Lab Assignment 04!"
   ]
  }
 ],
 "metadata": {
  "accelerator": "GPU",
  "colab": {
   "collapsed_sections": [],
   "name": "Project_02_Age_&_Gender_Prediction_CNN_Notebook.ipynb",
   "provenance": []
  },
  "kernelspec": {
   "display_name": "Python 3 (ipykernel)",
   "language": "python",
   "name": "python3"
  },
  "language_info": {
   "codemirror_mode": {
    "name": "ipython",
    "version": 3
   },
   "file_extension": ".py",
   "mimetype": "text/x-python",
   "name": "python",
   "nbconvert_exporter": "python",
   "pygments_lexer": "ipython3",
   "version": "3.9.7"
  }
 },
 "nbformat": 4,
 "nbformat_minor": 1
}
